{
 "cells": [
  {
   "cell_type": "markdown",
   "id": "04f59b52",
   "metadata": {},
   "source": [
    "Importing all the common libraries which will be use in our project and following are the funtionalities of libraries which they will perform on our dataset:\n",
    "\n",
    "    pandas will be use for data analysis\n",
    "    numpy will be use for performing varity of mathematical task\n",
    "    mathplotlib will be use for visualizing and presenting our data graphically\n",
    "    seaborn will be use for visualizing and exploring our data analysis"
   ]
  },
  {
   "cell_type": "code",
   "execution_count": 1,
   "id": "871327f9",
   "metadata": {},
   "outputs": [],
   "source": [
    "import pandas as pd\n",
    "\n",
    "import numpy as np\n",
    "\n",
    "import matplotlib.pyplot as plt\n",
    "\n",
    "%matplotlib inline\n",
    "\n",
    "import seaborn as sns"
   ]
  },
  {
   "cell_type": "markdown",
   "id": "a82f986e",
   "metadata": {},
   "source": [
    "Importing the dataset into python script"
   ]
  },
  {
   "cell_type": "code",
   "execution_count": 2,
   "id": "51bf3f1e",
   "metadata": {},
   "outputs": [],
   "source": [
    "dataset = pd.read_csv(\"heart.csv\")"
   ]
  },
  {
   "cell_type": "markdown",
   "id": "62b08da0",
   "metadata": {},
   "source": [
    "We can display the data of a column/the hole dataset by using below code"
   ]
  },
  {
   "cell_type": "code",
   "execution_count": 3,
   "id": "bc74fe65",
   "metadata": {},
   "outputs": [
    {
     "data": {
      "text/html": [
       "<div>\n",
       "<style scoped>\n",
       "    .dataframe tbody tr th:only-of-type {\n",
       "        vertical-align: middle;\n",
       "    }\n",
       "\n",
       "    .dataframe tbody tr th {\n",
       "        vertical-align: top;\n",
       "    }\n",
       "\n",
       "    .dataframe thead th {\n",
       "        text-align: right;\n",
       "    }\n",
       "</style>\n",
       "<table border=\"1\" class=\"dataframe\">\n",
       "  <thead>\n",
       "    <tr style=\"text-align: right;\">\n",
       "      <th></th>\n",
       "      <th>Age</th>\n",
       "      <th>Sex</th>\n",
       "      <th>ChestPainType</th>\n",
       "      <th>RestingBP</th>\n",
       "      <th>Cholesterol</th>\n",
       "      <th>FastingBS</th>\n",
       "      <th>RestingECG</th>\n",
       "      <th>MaxHR</th>\n",
       "      <th>ExerciseAngina</th>\n",
       "      <th>Oldpeak</th>\n",
       "      <th>ST_Slope</th>\n",
       "      <th>HeartDisease</th>\n",
       "    </tr>\n",
       "  </thead>\n",
       "  <tbody>\n",
       "    <tr>\n",
       "      <th>0</th>\n",
       "      <td>40</td>\n",
       "      <td>M</td>\n",
       "      <td>ATA</td>\n",
       "      <td>140</td>\n",
       "      <td>289</td>\n",
       "      <td>0</td>\n",
       "      <td>Normal</td>\n",
       "      <td>172</td>\n",
       "      <td>N</td>\n",
       "      <td>0.0</td>\n",
       "      <td>Up</td>\n",
       "      <td>0</td>\n",
       "    </tr>\n",
       "    <tr>\n",
       "      <th>1</th>\n",
       "      <td>49</td>\n",
       "      <td>F</td>\n",
       "      <td>NAP</td>\n",
       "      <td>160</td>\n",
       "      <td>180</td>\n",
       "      <td>0</td>\n",
       "      <td>Normal</td>\n",
       "      <td>156</td>\n",
       "      <td>N</td>\n",
       "      <td>1.0</td>\n",
       "      <td>Flat</td>\n",
       "      <td>1</td>\n",
       "    </tr>\n",
       "    <tr>\n",
       "      <th>2</th>\n",
       "      <td>37</td>\n",
       "      <td>M</td>\n",
       "      <td>ATA</td>\n",
       "      <td>130</td>\n",
       "      <td>283</td>\n",
       "      <td>0</td>\n",
       "      <td>ST</td>\n",
       "      <td>98</td>\n",
       "      <td>N</td>\n",
       "      <td>0.0</td>\n",
       "      <td>Up</td>\n",
       "      <td>0</td>\n",
       "    </tr>\n",
       "    <tr>\n",
       "      <th>3</th>\n",
       "      <td>48</td>\n",
       "      <td>F</td>\n",
       "      <td>ASY</td>\n",
       "      <td>138</td>\n",
       "      <td>214</td>\n",
       "      <td>0</td>\n",
       "      <td>Normal</td>\n",
       "      <td>108</td>\n",
       "      <td>Y</td>\n",
       "      <td>1.5</td>\n",
       "      <td>Flat</td>\n",
       "      <td>1</td>\n",
       "    </tr>\n",
       "    <tr>\n",
       "      <th>4</th>\n",
       "      <td>54</td>\n",
       "      <td>M</td>\n",
       "      <td>NAP</td>\n",
       "      <td>150</td>\n",
       "      <td>195</td>\n",
       "      <td>0</td>\n",
       "      <td>Normal</td>\n",
       "      <td>122</td>\n",
       "      <td>N</td>\n",
       "      <td>0.0</td>\n",
       "      <td>Up</td>\n",
       "      <td>0</td>\n",
       "    </tr>\n",
       "    <tr>\n",
       "      <th>...</th>\n",
       "      <td>...</td>\n",
       "      <td>...</td>\n",
       "      <td>...</td>\n",
       "      <td>...</td>\n",
       "      <td>...</td>\n",
       "      <td>...</td>\n",
       "      <td>...</td>\n",
       "      <td>...</td>\n",
       "      <td>...</td>\n",
       "      <td>...</td>\n",
       "      <td>...</td>\n",
       "      <td>...</td>\n",
       "    </tr>\n",
       "    <tr>\n",
       "      <th>913</th>\n",
       "      <td>45</td>\n",
       "      <td>M</td>\n",
       "      <td>TA</td>\n",
       "      <td>110</td>\n",
       "      <td>264</td>\n",
       "      <td>0</td>\n",
       "      <td>Normal</td>\n",
       "      <td>132</td>\n",
       "      <td>N</td>\n",
       "      <td>1.2</td>\n",
       "      <td>Flat</td>\n",
       "      <td>1</td>\n",
       "    </tr>\n",
       "    <tr>\n",
       "      <th>914</th>\n",
       "      <td>68</td>\n",
       "      <td>M</td>\n",
       "      <td>ASY</td>\n",
       "      <td>144</td>\n",
       "      <td>193</td>\n",
       "      <td>1</td>\n",
       "      <td>Normal</td>\n",
       "      <td>141</td>\n",
       "      <td>N</td>\n",
       "      <td>3.4</td>\n",
       "      <td>Flat</td>\n",
       "      <td>1</td>\n",
       "    </tr>\n",
       "    <tr>\n",
       "      <th>915</th>\n",
       "      <td>57</td>\n",
       "      <td>M</td>\n",
       "      <td>ASY</td>\n",
       "      <td>130</td>\n",
       "      <td>131</td>\n",
       "      <td>0</td>\n",
       "      <td>Normal</td>\n",
       "      <td>115</td>\n",
       "      <td>Y</td>\n",
       "      <td>1.2</td>\n",
       "      <td>Flat</td>\n",
       "      <td>1</td>\n",
       "    </tr>\n",
       "    <tr>\n",
       "      <th>916</th>\n",
       "      <td>57</td>\n",
       "      <td>F</td>\n",
       "      <td>ATA</td>\n",
       "      <td>130</td>\n",
       "      <td>236</td>\n",
       "      <td>0</td>\n",
       "      <td>LVH</td>\n",
       "      <td>174</td>\n",
       "      <td>N</td>\n",
       "      <td>0.0</td>\n",
       "      <td>Flat</td>\n",
       "      <td>1</td>\n",
       "    </tr>\n",
       "    <tr>\n",
       "      <th>917</th>\n",
       "      <td>38</td>\n",
       "      <td>M</td>\n",
       "      <td>NAP</td>\n",
       "      <td>138</td>\n",
       "      <td>175</td>\n",
       "      <td>0</td>\n",
       "      <td>Normal</td>\n",
       "      <td>173</td>\n",
       "      <td>N</td>\n",
       "      <td>0.0</td>\n",
       "      <td>Up</td>\n",
       "      <td>0</td>\n",
       "    </tr>\n",
       "  </tbody>\n",
       "</table>\n",
       "<p>918 rows × 12 columns</p>\n",
       "</div>"
      ],
      "text/plain": [
       "     Age Sex ChestPainType  RestingBP  Cholesterol  FastingBS RestingECG  \\\n",
       "0     40   M           ATA        140          289          0     Normal   \n",
       "1     49   F           NAP        160          180          0     Normal   \n",
       "2     37   M           ATA        130          283          0         ST   \n",
       "3     48   F           ASY        138          214          0     Normal   \n",
       "4     54   M           NAP        150          195          0     Normal   \n",
       "..   ...  ..           ...        ...          ...        ...        ...   \n",
       "913   45   M            TA        110          264          0     Normal   \n",
       "914   68   M           ASY        144          193          1     Normal   \n",
       "915   57   M           ASY        130          131          0     Normal   \n",
       "916   57   F           ATA        130          236          0        LVH   \n",
       "917   38   M           NAP        138          175          0     Normal   \n",
       "\n",
       "     MaxHR ExerciseAngina  Oldpeak ST_Slope  HeartDisease  \n",
       "0      172              N      0.0       Up             0  \n",
       "1      156              N      1.0     Flat             1  \n",
       "2       98              N      0.0       Up             0  \n",
       "3      108              Y      1.5     Flat             1  \n",
       "4      122              N      0.0       Up             0  \n",
       "..     ...            ...      ...      ...           ...  \n",
       "913    132              N      1.2     Flat             1  \n",
       "914    141              N      3.4     Flat             1  \n",
       "915    115              Y      1.2     Flat             1  \n",
       "916    174              N      0.0     Flat             1  \n",
       "917    173              N      0.0       Up             0  \n",
       "\n",
       "[918 rows x 12 columns]"
      ]
     },
     "execution_count": 3,
     "metadata": {},
     "output_type": "execute_result"
    }
   ],
   "source": [
    "dataset"
   ]
  },
  {
   "cell_type": "markdown",
   "id": "04a2aeb0",
   "metadata": {},
   "source": [
    "shape is use to show dimension's of our dataset"
   ]
  },
  {
   "cell_type": "code",
   "execution_count": 4,
   "id": "8f47b0c7",
   "metadata": {},
   "outputs": [
    {
     "data": {
      "text/plain": [
       "(918, 12)"
      ]
     },
     "execution_count": 4,
     "metadata": {},
     "output_type": "execute_result"
    }
   ],
   "source": [
    "dataset.shape"
   ]
  },
  {
   "cell_type": "markdown",
   "id": "02340f01",
   "metadata": {},
   "source": [
    "head() is use to show the starting 5 rows of our dataset"
   ]
  },
  {
   "cell_type": "code",
   "execution_count": 5,
   "id": "f5ff4232",
   "metadata": {},
   "outputs": [
    {
     "data": {
      "text/html": [
       "<div>\n",
       "<style scoped>\n",
       "    .dataframe tbody tr th:only-of-type {\n",
       "        vertical-align: middle;\n",
       "    }\n",
       "\n",
       "    .dataframe tbody tr th {\n",
       "        vertical-align: top;\n",
       "    }\n",
       "\n",
       "    .dataframe thead th {\n",
       "        text-align: right;\n",
       "    }\n",
       "</style>\n",
       "<table border=\"1\" class=\"dataframe\">\n",
       "  <thead>\n",
       "    <tr style=\"text-align: right;\">\n",
       "      <th></th>\n",
       "      <th>Age</th>\n",
       "      <th>Sex</th>\n",
       "      <th>ChestPainType</th>\n",
       "      <th>RestingBP</th>\n",
       "      <th>Cholesterol</th>\n",
       "      <th>FastingBS</th>\n",
       "      <th>RestingECG</th>\n",
       "      <th>MaxHR</th>\n",
       "      <th>ExerciseAngina</th>\n",
       "      <th>Oldpeak</th>\n",
       "      <th>ST_Slope</th>\n",
       "      <th>HeartDisease</th>\n",
       "    </tr>\n",
       "  </thead>\n",
       "  <tbody>\n",
       "    <tr>\n",
       "      <th>0</th>\n",
       "      <td>40</td>\n",
       "      <td>M</td>\n",
       "      <td>ATA</td>\n",
       "      <td>140</td>\n",
       "      <td>289</td>\n",
       "      <td>0</td>\n",
       "      <td>Normal</td>\n",
       "      <td>172</td>\n",
       "      <td>N</td>\n",
       "      <td>0.0</td>\n",
       "      <td>Up</td>\n",
       "      <td>0</td>\n",
       "    </tr>\n",
       "    <tr>\n",
       "      <th>1</th>\n",
       "      <td>49</td>\n",
       "      <td>F</td>\n",
       "      <td>NAP</td>\n",
       "      <td>160</td>\n",
       "      <td>180</td>\n",
       "      <td>0</td>\n",
       "      <td>Normal</td>\n",
       "      <td>156</td>\n",
       "      <td>N</td>\n",
       "      <td>1.0</td>\n",
       "      <td>Flat</td>\n",
       "      <td>1</td>\n",
       "    </tr>\n",
       "    <tr>\n",
       "      <th>2</th>\n",
       "      <td>37</td>\n",
       "      <td>M</td>\n",
       "      <td>ATA</td>\n",
       "      <td>130</td>\n",
       "      <td>283</td>\n",
       "      <td>0</td>\n",
       "      <td>ST</td>\n",
       "      <td>98</td>\n",
       "      <td>N</td>\n",
       "      <td>0.0</td>\n",
       "      <td>Up</td>\n",
       "      <td>0</td>\n",
       "    </tr>\n",
       "    <tr>\n",
       "      <th>3</th>\n",
       "      <td>48</td>\n",
       "      <td>F</td>\n",
       "      <td>ASY</td>\n",
       "      <td>138</td>\n",
       "      <td>214</td>\n",
       "      <td>0</td>\n",
       "      <td>Normal</td>\n",
       "      <td>108</td>\n",
       "      <td>Y</td>\n",
       "      <td>1.5</td>\n",
       "      <td>Flat</td>\n",
       "      <td>1</td>\n",
       "    </tr>\n",
       "    <tr>\n",
       "      <th>4</th>\n",
       "      <td>54</td>\n",
       "      <td>M</td>\n",
       "      <td>NAP</td>\n",
       "      <td>150</td>\n",
       "      <td>195</td>\n",
       "      <td>0</td>\n",
       "      <td>Normal</td>\n",
       "      <td>122</td>\n",
       "      <td>N</td>\n",
       "      <td>0.0</td>\n",
       "      <td>Up</td>\n",
       "      <td>0</td>\n",
       "    </tr>\n",
       "  </tbody>\n",
       "</table>\n",
       "</div>"
      ],
      "text/plain": [
       "   Age Sex ChestPainType  RestingBP  Cholesterol  FastingBS RestingECG  MaxHR  \\\n",
       "0   40   M           ATA        140          289          0     Normal    172   \n",
       "1   49   F           NAP        160          180          0     Normal    156   \n",
       "2   37   M           ATA        130          283          0         ST     98   \n",
       "3   48   F           ASY        138          214          0     Normal    108   \n",
       "4   54   M           NAP        150          195          0     Normal    122   \n",
       "\n",
       "  ExerciseAngina  Oldpeak ST_Slope  HeartDisease  \n",
       "0              N      0.0       Up             0  \n",
       "1              N      1.0     Flat             1  \n",
       "2              N      0.0       Up             0  \n",
       "3              Y      1.5     Flat             1  \n",
       "4              N      0.0       Up             0  "
      ]
     },
     "execution_count": 5,
     "metadata": {},
     "output_type": "execute_result"
    }
   ],
   "source": [
    "dataset.head()"
   ]
  },
  {
   "cell_type": "markdown",
   "id": "e1113fa2",
   "metadata": {},
   "source": [
    "Setting a targeted column"
   ]
  },
  {
   "cell_type": "code",
   "execution_count": 6,
   "id": "8e04995d",
   "metadata": {},
   "outputs": [],
   "source": [
    "target = dataset['HeartDisease']"
   ]
  },
  {
   "cell_type": "code",
   "execution_count": 7,
   "id": "d88dd613",
   "metadata": {},
   "outputs": [
    {
     "data": {
      "text/plain": [
       "0      0\n",
       "1      1\n",
       "2      0\n",
       "3      1\n",
       "4      0\n",
       "      ..\n",
       "913    1\n",
       "914    1\n",
       "915    1\n",
       "916    1\n",
       "917    0\n",
       "Name: HeartDisease, Length: 918, dtype: int64"
      ]
     },
     "execution_count": 7,
     "metadata": {},
     "output_type": "execute_result"
    }
   ],
   "source": [
    "target"
   ]
  },
  {
   "cell_type": "code",
   "execution_count": 8,
   "id": "11aabb63",
   "metadata": {},
   "outputs": [
    {
     "data": {
      "text/plain": [
       "(918,)"
      ]
     },
     "execution_count": 8,
     "metadata": {},
     "output_type": "execute_result"
    }
   ],
   "source": [
    "target.shape"
   ]
  },
  {
   "cell_type": "code",
   "execution_count": 9,
   "id": "185adf4a",
   "metadata": {},
   "outputs": [
    {
     "data": {
      "text/plain": [
       "0    0\n",
       "1    1\n",
       "2    0\n",
       "3    1\n",
       "4    0\n",
       "Name: HeartDisease, dtype: int64"
      ]
     },
     "execution_count": 9,
     "metadata": {},
     "output_type": "execute_result"
    }
   ],
   "source": [
    "target.head()"
   ]
  },
  {
   "cell_type": "markdown",
   "id": "b50989f8",
   "metadata": {},
   "source": [
    "Importing LabelEncoder from sklearn.preprocessing to convert our alphabetic data into numeric data"
   ]
  },
  {
   "cell_type": "code",
   "execution_count": 10,
   "id": "5ba1321e",
   "metadata": {},
   "outputs": [],
   "source": [
    "from sklearn.preprocessing import LabelEncoder"
   ]
  },
  {
   "cell_type": "markdown",
   "id": "d1179b63",
   "metadata": {},
   "source": [
    "We have save the LabelEncoder() function in following variables"
   ]
  },
  {
   "cell_type": "code",
   "execution_count": 11,
   "id": "04937bf1",
   "metadata": {},
   "outputs": [],
   "source": [
    "labelSex = LabelEncoder()\n",
    "labelChestPainType = LabelEncoder()\n",
    "labelRestingECG = LabelEncoder()\n",
    "labelExerciseAngina = LabelEncoder()\n",
    "labelST_Slope = LabelEncoder()"
   ]
  },
  {
   "cell_type": "code",
   "execution_count": 12,
   "id": "c2d31418",
   "metadata": {},
   "outputs": [],
   "source": [
    "dataset['Label Sex'] = labelChestPainType.fit_transform(dataset['Sex'])"
   ]
  },
  {
   "cell_type": "markdown",
   "id": "3e6b96bc",
   "metadata": {},
   "source": [
    "We have changed the alphabetic values of Sex column into numeric values. And here 1 represent Male and 0 represent Female."
   ]
  },
  {
   "cell_type": "code",
   "execution_count": 13,
   "id": "14a7b7ff",
   "metadata": {},
   "outputs": [
    {
     "data": {
      "text/html": [
       "<div>\n",
       "<style scoped>\n",
       "    .dataframe tbody tr th:only-of-type {\n",
       "        vertical-align: middle;\n",
       "    }\n",
       "\n",
       "    .dataframe tbody tr th {\n",
       "        vertical-align: top;\n",
       "    }\n",
       "\n",
       "    .dataframe thead th {\n",
       "        text-align: right;\n",
       "    }\n",
       "</style>\n",
       "<table border=\"1\" class=\"dataframe\">\n",
       "  <thead>\n",
       "    <tr style=\"text-align: right;\">\n",
       "      <th></th>\n",
       "      <th>Age</th>\n",
       "      <th>Sex</th>\n",
       "      <th>ChestPainType</th>\n",
       "      <th>RestingBP</th>\n",
       "      <th>Cholesterol</th>\n",
       "      <th>FastingBS</th>\n",
       "      <th>RestingECG</th>\n",
       "      <th>MaxHR</th>\n",
       "      <th>ExerciseAngina</th>\n",
       "      <th>Oldpeak</th>\n",
       "      <th>ST_Slope</th>\n",
       "      <th>HeartDisease</th>\n",
       "      <th>Label Sex</th>\n",
       "    </tr>\n",
       "  </thead>\n",
       "  <tbody>\n",
       "    <tr>\n",
       "      <th>61</th>\n",
       "      <td>43</td>\n",
       "      <td>F</td>\n",
       "      <td>NAP</td>\n",
       "      <td>150</td>\n",
       "      <td>254</td>\n",
       "      <td>0</td>\n",
       "      <td>Normal</td>\n",
       "      <td>175</td>\n",
       "      <td>N</td>\n",
       "      <td>0.0</td>\n",
       "      <td>Up</td>\n",
       "      <td>0</td>\n",
       "      <td>0</td>\n",
       "    </tr>\n",
       "    <tr>\n",
       "      <th>185</th>\n",
       "      <td>58</td>\n",
       "      <td>M</td>\n",
       "      <td>NAP</td>\n",
       "      <td>160</td>\n",
       "      <td>211</td>\n",
       "      <td>1</td>\n",
       "      <td>ST</td>\n",
       "      <td>92</td>\n",
       "      <td>N</td>\n",
       "      <td>0.0</td>\n",
       "      <td>Flat</td>\n",
       "      <td>1</td>\n",
       "      <td>1</td>\n",
       "    </tr>\n",
       "    <tr>\n",
       "      <th>596</th>\n",
       "      <td>57</td>\n",
       "      <td>M</td>\n",
       "      <td>ASY</td>\n",
       "      <td>122</td>\n",
       "      <td>264</td>\n",
       "      <td>0</td>\n",
       "      <td>LVH</td>\n",
       "      <td>100</td>\n",
       "      <td>N</td>\n",
       "      <td>0.0</td>\n",
       "      <td>Flat</td>\n",
       "      <td>1</td>\n",
       "      <td>1</td>\n",
       "    </tr>\n",
       "    <tr>\n",
       "      <th>532</th>\n",
       "      <td>55</td>\n",
       "      <td>M</td>\n",
       "      <td>ASY</td>\n",
       "      <td>116</td>\n",
       "      <td>186</td>\n",
       "      <td>1</td>\n",
       "      <td>ST</td>\n",
       "      <td>102</td>\n",
       "      <td>N</td>\n",
       "      <td>0.0</td>\n",
       "      <td>Flat</td>\n",
       "      <td>1</td>\n",
       "      <td>1</td>\n",
       "    </tr>\n",
       "    <tr>\n",
       "      <th>259</th>\n",
       "      <td>55</td>\n",
       "      <td>F</td>\n",
       "      <td>ATA</td>\n",
       "      <td>122</td>\n",
       "      <td>320</td>\n",
       "      <td>0</td>\n",
       "      <td>Normal</td>\n",
       "      <td>155</td>\n",
       "      <td>N</td>\n",
       "      <td>0.0</td>\n",
       "      <td>Up</td>\n",
       "      <td>0</td>\n",
       "      <td>0</td>\n",
       "    </tr>\n",
       "    <tr>\n",
       "      <th>69</th>\n",
       "      <td>44</td>\n",
       "      <td>M</td>\n",
       "      <td>ASY</td>\n",
       "      <td>150</td>\n",
       "      <td>412</td>\n",
       "      <td>0</td>\n",
       "      <td>Normal</td>\n",
       "      <td>170</td>\n",
       "      <td>N</td>\n",
       "      <td>0.0</td>\n",
       "      <td>Up</td>\n",
       "      <td>0</td>\n",
       "      <td>1</td>\n",
       "    </tr>\n",
       "    <tr>\n",
       "      <th>404</th>\n",
       "      <td>47</td>\n",
       "      <td>M</td>\n",
       "      <td>NAP</td>\n",
       "      <td>110</td>\n",
       "      <td>0</td>\n",
       "      <td>1</td>\n",
       "      <td>Normal</td>\n",
       "      <td>120</td>\n",
       "      <td>Y</td>\n",
       "      <td>0.0</td>\n",
       "      <td>Flat</td>\n",
       "      <td>1</td>\n",
       "      <td>1</td>\n",
       "    </tr>\n",
       "    <tr>\n",
       "      <th>673</th>\n",
       "      <td>59</td>\n",
       "      <td>F</td>\n",
       "      <td>ASY</td>\n",
       "      <td>174</td>\n",
       "      <td>249</td>\n",
       "      <td>0</td>\n",
       "      <td>Normal</td>\n",
       "      <td>143</td>\n",
       "      <td>Y</td>\n",
       "      <td>0.0</td>\n",
       "      <td>Flat</td>\n",
       "      <td>1</td>\n",
       "      <td>0</td>\n",
       "    </tr>\n",
       "    <tr>\n",
       "      <th>60</th>\n",
       "      <td>49</td>\n",
       "      <td>M</td>\n",
       "      <td>ATA</td>\n",
       "      <td>100</td>\n",
       "      <td>253</td>\n",
       "      <td>0</td>\n",
       "      <td>Normal</td>\n",
       "      <td>174</td>\n",
       "      <td>N</td>\n",
       "      <td>0.0</td>\n",
       "      <td>Up</td>\n",
       "      <td>0</td>\n",
       "      <td>1</td>\n",
       "    </tr>\n",
       "    <tr>\n",
       "      <th>180</th>\n",
       "      <td>52</td>\n",
       "      <td>M</td>\n",
       "      <td>ASY</td>\n",
       "      <td>130</td>\n",
       "      <td>225</td>\n",
       "      <td>0</td>\n",
       "      <td>Normal</td>\n",
       "      <td>120</td>\n",
       "      <td>Y</td>\n",
       "      <td>2.0</td>\n",
       "      <td>Flat</td>\n",
       "      <td>1</td>\n",
       "      <td>1</td>\n",
       "    </tr>\n",
       "  </tbody>\n",
       "</table>\n",
       "</div>"
      ],
      "text/plain": [
       "     Age Sex ChestPainType  RestingBP  Cholesterol  FastingBS RestingECG  \\\n",
       "61    43   F           NAP        150          254          0     Normal   \n",
       "185   58   M           NAP        160          211          1         ST   \n",
       "596   57   M           ASY        122          264          0        LVH   \n",
       "532   55   M           ASY        116          186          1         ST   \n",
       "259   55   F           ATA        122          320          0     Normal   \n",
       "69    44   M           ASY        150          412          0     Normal   \n",
       "404   47   M           NAP        110            0          1     Normal   \n",
       "673   59   F           ASY        174          249          0     Normal   \n",
       "60    49   M           ATA        100          253          0     Normal   \n",
       "180   52   M           ASY        130          225          0     Normal   \n",
       "\n",
       "     MaxHR ExerciseAngina  Oldpeak ST_Slope  HeartDisease  Label Sex  \n",
       "61     175              N      0.0       Up             0          0  \n",
       "185     92              N      0.0     Flat             1          1  \n",
       "596    100              N      0.0     Flat             1          1  \n",
       "532    102              N      0.0     Flat             1          1  \n",
       "259    155              N      0.0       Up             0          0  \n",
       "69     170              N      0.0       Up             0          1  \n",
       "404    120              Y      0.0     Flat             1          1  \n",
       "673    143              Y      0.0     Flat             1          0  \n",
       "60     174              N      0.0       Up             0          1  \n",
       "180    120              Y      2.0     Flat             1          1  "
      ]
     },
     "execution_count": 13,
     "metadata": {},
     "output_type": "execute_result"
    }
   ],
   "source": [
    "dataset.sample(10)"
   ]
  },
  {
   "cell_type": "code",
   "execution_count": 14,
   "id": "6bff273f",
   "metadata": {},
   "outputs": [],
   "source": [
    "dataset['Label ChestPainType'] = labelChestPainType.fit_transform(dataset['ChestPainType'])"
   ]
  },
  {
   "cell_type": "code",
   "execution_count": 15,
   "id": "41573510",
   "metadata": {},
   "outputs": [
    {
     "data": {
      "text/html": [
       "<div>\n",
       "<style scoped>\n",
       "    .dataframe tbody tr th:only-of-type {\n",
       "        vertical-align: middle;\n",
       "    }\n",
       "\n",
       "    .dataframe tbody tr th {\n",
       "        vertical-align: top;\n",
       "    }\n",
       "\n",
       "    .dataframe thead th {\n",
       "        text-align: right;\n",
       "    }\n",
       "</style>\n",
       "<table border=\"1\" class=\"dataframe\">\n",
       "  <thead>\n",
       "    <tr style=\"text-align: right;\">\n",
       "      <th></th>\n",
       "      <th>Age</th>\n",
       "      <th>Sex</th>\n",
       "      <th>ChestPainType</th>\n",
       "      <th>RestingBP</th>\n",
       "      <th>Cholesterol</th>\n",
       "      <th>FastingBS</th>\n",
       "      <th>RestingECG</th>\n",
       "      <th>MaxHR</th>\n",
       "      <th>ExerciseAngina</th>\n",
       "      <th>Oldpeak</th>\n",
       "      <th>ST_Slope</th>\n",
       "      <th>HeartDisease</th>\n",
       "      <th>Label Sex</th>\n",
       "      <th>Label ChestPainType</th>\n",
       "    </tr>\n",
       "  </thead>\n",
       "  <tbody>\n",
       "    <tr>\n",
       "      <th>541</th>\n",
       "      <td>76</td>\n",
       "      <td>M</td>\n",
       "      <td>NAP</td>\n",
       "      <td>104</td>\n",
       "      <td>113</td>\n",
       "      <td>0</td>\n",
       "      <td>LVH</td>\n",
       "      <td>120</td>\n",
       "      <td>N</td>\n",
       "      <td>3.5</td>\n",
       "      <td>Down</td>\n",
       "      <td>1</td>\n",
       "      <td>1</td>\n",
       "      <td>2</td>\n",
       "    </tr>\n",
       "    <tr>\n",
       "      <th>163</th>\n",
       "      <td>42</td>\n",
       "      <td>M</td>\n",
       "      <td>ATA</td>\n",
       "      <td>120</td>\n",
       "      <td>196</td>\n",
       "      <td>0</td>\n",
       "      <td>Normal</td>\n",
       "      <td>150</td>\n",
       "      <td>N</td>\n",
       "      <td>0.0</td>\n",
       "      <td>Up</td>\n",
       "      <td>0</td>\n",
       "      <td>1</td>\n",
       "      <td>1</td>\n",
       "    </tr>\n",
       "    <tr>\n",
       "      <th>340</th>\n",
       "      <td>43</td>\n",
       "      <td>M</td>\n",
       "      <td>ASY</td>\n",
       "      <td>100</td>\n",
       "      <td>0</td>\n",
       "      <td>1</td>\n",
       "      <td>Normal</td>\n",
       "      <td>122</td>\n",
       "      <td>N</td>\n",
       "      <td>1.5</td>\n",
       "      <td>Down</td>\n",
       "      <td>1</td>\n",
       "      <td>1</td>\n",
       "      <td>0</td>\n",
       "    </tr>\n",
       "    <tr>\n",
       "      <th>419</th>\n",
       "      <td>55</td>\n",
       "      <td>M</td>\n",
       "      <td>ASY</td>\n",
       "      <td>142</td>\n",
       "      <td>228</td>\n",
       "      <td>0</td>\n",
       "      <td>ST</td>\n",
       "      <td>149</td>\n",
       "      <td>Y</td>\n",
       "      <td>2.5</td>\n",
       "      <td>Up</td>\n",
       "      <td>1</td>\n",
       "      <td>1</td>\n",
       "      <td>0</td>\n",
       "    </tr>\n",
       "    <tr>\n",
       "      <th>587</th>\n",
       "      <td>37</td>\n",
       "      <td>M</td>\n",
       "      <td>NAP</td>\n",
       "      <td>118</td>\n",
       "      <td>240</td>\n",
       "      <td>0</td>\n",
       "      <td>LVH</td>\n",
       "      <td>165</td>\n",
       "      <td>N</td>\n",
       "      <td>1.0</td>\n",
       "      <td>Flat</td>\n",
       "      <td>0</td>\n",
       "      <td>1</td>\n",
       "      <td>2</td>\n",
       "    </tr>\n",
       "    <tr>\n",
       "      <th>98</th>\n",
       "      <td>56</td>\n",
       "      <td>M</td>\n",
       "      <td>ASY</td>\n",
       "      <td>120</td>\n",
       "      <td>85</td>\n",
       "      <td>0</td>\n",
       "      <td>Normal</td>\n",
       "      <td>140</td>\n",
       "      <td>N</td>\n",
       "      <td>0.0</td>\n",
       "      <td>Up</td>\n",
       "      <td>0</td>\n",
       "      <td>1</td>\n",
       "      <td>0</td>\n",
       "    </tr>\n",
       "    <tr>\n",
       "      <th>5</th>\n",
       "      <td>39</td>\n",
       "      <td>M</td>\n",
       "      <td>NAP</td>\n",
       "      <td>120</td>\n",
       "      <td>339</td>\n",
       "      <td>0</td>\n",
       "      <td>Normal</td>\n",
       "      <td>170</td>\n",
       "      <td>N</td>\n",
       "      <td>0.0</td>\n",
       "      <td>Up</td>\n",
       "      <td>0</td>\n",
       "      <td>1</td>\n",
       "      <td>2</td>\n",
       "    </tr>\n",
       "    <tr>\n",
       "      <th>350</th>\n",
       "      <td>53</td>\n",
       "      <td>M</td>\n",
       "      <td>ASY</td>\n",
       "      <td>120</td>\n",
       "      <td>0</td>\n",
       "      <td>1</td>\n",
       "      <td>Normal</td>\n",
       "      <td>120</td>\n",
       "      <td>N</td>\n",
       "      <td>0.0</td>\n",
       "      <td>Flat</td>\n",
       "      <td>1</td>\n",
       "      <td>1</td>\n",
       "      <td>0</td>\n",
       "    </tr>\n",
       "    <tr>\n",
       "      <th>522</th>\n",
       "      <td>50</td>\n",
       "      <td>M</td>\n",
       "      <td>ASY</td>\n",
       "      <td>144</td>\n",
       "      <td>349</td>\n",
       "      <td>0</td>\n",
       "      <td>LVH</td>\n",
       "      <td>120</td>\n",
       "      <td>Y</td>\n",
       "      <td>1.0</td>\n",
       "      <td>Up</td>\n",
       "      <td>1</td>\n",
       "      <td>1</td>\n",
       "      <td>0</td>\n",
       "    </tr>\n",
       "    <tr>\n",
       "      <th>787</th>\n",
       "      <td>67</td>\n",
       "      <td>M</td>\n",
       "      <td>ASY</td>\n",
       "      <td>100</td>\n",
       "      <td>299</td>\n",
       "      <td>0</td>\n",
       "      <td>LVH</td>\n",
       "      <td>125</td>\n",
       "      <td>Y</td>\n",
       "      <td>0.9</td>\n",
       "      <td>Flat</td>\n",
       "      <td>1</td>\n",
       "      <td>1</td>\n",
       "      <td>0</td>\n",
       "    </tr>\n",
       "  </tbody>\n",
       "</table>\n",
       "</div>"
      ],
      "text/plain": [
       "     Age Sex ChestPainType  RestingBP  Cholesterol  FastingBS RestingECG  \\\n",
       "541   76   M           NAP        104          113          0        LVH   \n",
       "163   42   M           ATA        120          196          0     Normal   \n",
       "340   43   M           ASY        100            0          1     Normal   \n",
       "419   55   M           ASY        142          228          0         ST   \n",
       "587   37   M           NAP        118          240          0        LVH   \n",
       "98    56   M           ASY        120           85          0     Normal   \n",
       "5     39   M           NAP        120          339          0     Normal   \n",
       "350   53   M           ASY        120            0          1     Normal   \n",
       "522   50   M           ASY        144          349          0        LVH   \n",
       "787   67   M           ASY        100          299          0        LVH   \n",
       "\n",
       "     MaxHR ExerciseAngina  Oldpeak ST_Slope  HeartDisease  Label Sex  \\\n",
       "541    120              N      3.5     Down             1          1   \n",
       "163    150              N      0.0       Up             0          1   \n",
       "340    122              N      1.5     Down             1          1   \n",
       "419    149              Y      2.5       Up             1          1   \n",
       "587    165              N      1.0     Flat             0          1   \n",
       "98     140              N      0.0       Up             0          1   \n",
       "5      170              N      0.0       Up             0          1   \n",
       "350    120              N      0.0     Flat             1          1   \n",
       "522    120              Y      1.0       Up             1          1   \n",
       "787    125              Y      0.9     Flat             1          1   \n",
       "\n",
       "     Label ChestPainType  \n",
       "541                    2  \n",
       "163                    1  \n",
       "340                    0  \n",
       "419                    0  \n",
       "587                    2  \n",
       "98                     0  \n",
       "5                      2  \n",
       "350                    0  \n",
       "522                    0  \n",
       "787                    0  "
      ]
     },
     "execution_count": 15,
     "metadata": {},
     "output_type": "execute_result"
    }
   ],
   "source": [
    "dataset.sample(10)"
   ]
  },
  {
   "cell_type": "code",
   "execution_count": 16,
   "id": "8589379a",
   "metadata": {},
   "outputs": [],
   "source": [
    "dataset['Label RestingECG'] = labelRestingECG.fit_transform(dataset['RestingECG'])"
   ]
  },
  {
   "cell_type": "code",
   "execution_count": 17,
   "id": "a793f146",
   "metadata": {},
   "outputs": [
    {
     "data": {
      "text/html": [
       "<div>\n",
       "<style scoped>\n",
       "    .dataframe tbody tr th:only-of-type {\n",
       "        vertical-align: middle;\n",
       "    }\n",
       "\n",
       "    .dataframe tbody tr th {\n",
       "        vertical-align: top;\n",
       "    }\n",
       "\n",
       "    .dataframe thead th {\n",
       "        text-align: right;\n",
       "    }\n",
       "</style>\n",
       "<table border=\"1\" class=\"dataframe\">\n",
       "  <thead>\n",
       "    <tr style=\"text-align: right;\">\n",
       "      <th></th>\n",
       "      <th>Age</th>\n",
       "      <th>Sex</th>\n",
       "      <th>ChestPainType</th>\n",
       "      <th>RestingBP</th>\n",
       "      <th>Cholesterol</th>\n",
       "      <th>FastingBS</th>\n",
       "      <th>RestingECG</th>\n",
       "      <th>MaxHR</th>\n",
       "      <th>ExerciseAngina</th>\n",
       "      <th>Oldpeak</th>\n",
       "      <th>ST_Slope</th>\n",
       "      <th>HeartDisease</th>\n",
       "      <th>Label Sex</th>\n",
       "      <th>Label ChestPainType</th>\n",
       "      <th>Label RestingECG</th>\n",
       "    </tr>\n",
       "  </thead>\n",
       "  <tbody>\n",
       "    <tr>\n",
       "      <th>283</th>\n",
       "      <td>55</td>\n",
       "      <td>F</td>\n",
       "      <td>ATA</td>\n",
       "      <td>110</td>\n",
       "      <td>344</td>\n",
       "      <td>0</td>\n",
       "      <td>ST</td>\n",
       "      <td>160</td>\n",
       "      <td>N</td>\n",
       "      <td>0.0</td>\n",
       "      <td>Up</td>\n",
       "      <td>0</td>\n",
       "      <td>0</td>\n",
       "      <td>1</td>\n",
       "      <td>2</td>\n",
       "    </tr>\n",
       "    <tr>\n",
       "      <th>323</th>\n",
       "      <td>62</td>\n",
       "      <td>M</td>\n",
       "      <td>ASY</td>\n",
       "      <td>115</td>\n",
       "      <td>0</td>\n",
       "      <td>1</td>\n",
       "      <td>Normal</td>\n",
       "      <td>128</td>\n",
       "      <td>Y</td>\n",
       "      <td>2.5</td>\n",
       "      <td>Down</td>\n",
       "      <td>1</td>\n",
       "      <td>1</td>\n",
       "      <td>0</td>\n",
       "      <td>1</td>\n",
       "    </tr>\n",
       "    <tr>\n",
       "      <th>306</th>\n",
       "      <td>55</td>\n",
       "      <td>M</td>\n",
       "      <td>ASY</td>\n",
       "      <td>115</td>\n",
       "      <td>0</td>\n",
       "      <td>1</td>\n",
       "      <td>Normal</td>\n",
       "      <td>155</td>\n",
       "      <td>N</td>\n",
       "      <td>0.1</td>\n",
       "      <td>Flat</td>\n",
       "      <td>1</td>\n",
       "      <td>1</td>\n",
       "      <td>0</td>\n",
       "      <td>1</td>\n",
       "    </tr>\n",
       "    <tr>\n",
       "      <th>342</th>\n",
       "      <td>61</td>\n",
       "      <td>M</td>\n",
       "      <td>ASY</td>\n",
       "      <td>110</td>\n",
       "      <td>0</td>\n",
       "      <td>1</td>\n",
       "      <td>Normal</td>\n",
       "      <td>113</td>\n",
       "      <td>N</td>\n",
       "      <td>1.4</td>\n",
       "      <td>Flat</td>\n",
       "      <td>1</td>\n",
       "      <td>1</td>\n",
       "      <td>0</td>\n",
       "      <td>1</td>\n",
       "    </tr>\n",
       "    <tr>\n",
       "      <th>519</th>\n",
       "      <td>63</td>\n",
       "      <td>M</td>\n",
       "      <td>ASY</td>\n",
       "      <td>96</td>\n",
       "      <td>305</td>\n",
       "      <td>0</td>\n",
       "      <td>ST</td>\n",
       "      <td>121</td>\n",
       "      <td>Y</td>\n",
       "      <td>1.0</td>\n",
       "      <td>Up</td>\n",
       "      <td>1</td>\n",
       "      <td>1</td>\n",
       "      <td>0</td>\n",
       "      <td>2</td>\n",
       "    </tr>\n",
       "    <tr>\n",
       "      <th>863</th>\n",
       "      <td>60</td>\n",
       "      <td>M</td>\n",
       "      <td>NAP</td>\n",
       "      <td>140</td>\n",
       "      <td>185</td>\n",
       "      <td>0</td>\n",
       "      <td>LVH</td>\n",
       "      <td>155</td>\n",
       "      <td>N</td>\n",
       "      <td>3.0</td>\n",
       "      <td>Flat</td>\n",
       "      <td>1</td>\n",
       "      <td>1</td>\n",
       "      <td>2</td>\n",
       "      <td>0</td>\n",
       "    </tr>\n",
       "    <tr>\n",
       "      <th>233</th>\n",
       "      <td>41</td>\n",
       "      <td>M</td>\n",
       "      <td>ASY</td>\n",
       "      <td>112</td>\n",
       "      <td>250</td>\n",
       "      <td>0</td>\n",
       "      <td>Normal</td>\n",
       "      <td>142</td>\n",
       "      <td>N</td>\n",
       "      <td>0.0</td>\n",
       "      <td>Up</td>\n",
       "      <td>0</td>\n",
       "      <td>1</td>\n",
       "      <td>0</td>\n",
       "      <td>1</td>\n",
       "    </tr>\n",
       "    <tr>\n",
       "      <th>275</th>\n",
       "      <td>59</td>\n",
       "      <td>M</td>\n",
       "      <td>NAP</td>\n",
       "      <td>180</td>\n",
       "      <td>213</td>\n",
       "      <td>0</td>\n",
       "      <td>Normal</td>\n",
       "      <td>100</td>\n",
       "      <td>N</td>\n",
       "      <td>0.0</td>\n",
       "      <td>Up</td>\n",
       "      <td>0</td>\n",
       "      <td>1</td>\n",
       "      <td>2</td>\n",
       "      <td>1</td>\n",
       "    </tr>\n",
       "    <tr>\n",
       "      <th>566</th>\n",
       "      <td>41</td>\n",
       "      <td>M</td>\n",
       "      <td>ASY</td>\n",
       "      <td>150</td>\n",
       "      <td>171</td>\n",
       "      <td>0</td>\n",
       "      <td>Normal</td>\n",
       "      <td>128</td>\n",
       "      <td>Y</td>\n",
       "      <td>1.5</td>\n",
       "      <td>Flat</td>\n",
       "      <td>0</td>\n",
       "      <td>1</td>\n",
       "      <td>0</td>\n",
       "      <td>1</td>\n",
       "    </tr>\n",
       "    <tr>\n",
       "      <th>71</th>\n",
       "      <td>44</td>\n",
       "      <td>M</td>\n",
       "      <td>ATA</td>\n",
       "      <td>130</td>\n",
       "      <td>215</td>\n",
       "      <td>0</td>\n",
       "      <td>Normal</td>\n",
       "      <td>135</td>\n",
       "      <td>N</td>\n",
       "      <td>0.0</td>\n",
       "      <td>Up</td>\n",
       "      <td>0</td>\n",
       "      <td>1</td>\n",
       "      <td>1</td>\n",
       "      <td>1</td>\n",
       "    </tr>\n",
       "  </tbody>\n",
       "</table>\n",
       "</div>"
      ],
      "text/plain": [
       "     Age Sex ChestPainType  RestingBP  Cholesterol  FastingBS RestingECG  \\\n",
       "283   55   F           ATA        110          344          0         ST   \n",
       "323   62   M           ASY        115            0          1     Normal   \n",
       "306   55   M           ASY        115            0          1     Normal   \n",
       "342   61   M           ASY        110            0          1     Normal   \n",
       "519   63   M           ASY         96          305          0         ST   \n",
       "863   60   M           NAP        140          185          0        LVH   \n",
       "233   41   M           ASY        112          250          0     Normal   \n",
       "275   59   M           NAP        180          213          0     Normal   \n",
       "566   41   M           ASY        150          171          0     Normal   \n",
       "71    44   M           ATA        130          215          0     Normal   \n",
       "\n",
       "     MaxHR ExerciseAngina  Oldpeak ST_Slope  HeartDisease  Label Sex  \\\n",
       "283    160              N      0.0       Up             0          0   \n",
       "323    128              Y      2.5     Down             1          1   \n",
       "306    155              N      0.1     Flat             1          1   \n",
       "342    113              N      1.4     Flat             1          1   \n",
       "519    121              Y      1.0       Up             1          1   \n",
       "863    155              N      3.0     Flat             1          1   \n",
       "233    142              N      0.0       Up             0          1   \n",
       "275    100              N      0.0       Up             0          1   \n",
       "566    128              Y      1.5     Flat             0          1   \n",
       "71     135              N      0.0       Up             0          1   \n",
       "\n",
       "     Label ChestPainType  Label RestingECG  \n",
       "283                    1                 2  \n",
       "323                    0                 1  \n",
       "306                    0                 1  \n",
       "342                    0                 1  \n",
       "519                    0                 2  \n",
       "863                    2                 0  \n",
       "233                    0                 1  \n",
       "275                    2                 1  \n",
       "566                    0                 1  \n",
       "71                     1                 1  "
      ]
     },
     "execution_count": 17,
     "metadata": {},
     "output_type": "execute_result"
    }
   ],
   "source": [
    "dataset.sample(10)"
   ]
  },
  {
   "cell_type": "code",
   "execution_count": 18,
   "id": "1a6cca82",
   "metadata": {},
   "outputs": [],
   "source": [
    "dataset['Label ExerciseAngina'] = labelExerciseAngina.fit_transform(dataset['ExerciseAngina'])"
   ]
  },
  {
   "cell_type": "code",
   "execution_count": 19,
   "id": "9f6e0937",
   "metadata": {},
   "outputs": [
    {
     "data": {
      "text/html": [
       "<div>\n",
       "<style scoped>\n",
       "    .dataframe tbody tr th:only-of-type {\n",
       "        vertical-align: middle;\n",
       "    }\n",
       "\n",
       "    .dataframe tbody tr th {\n",
       "        vertical-align: top;\n",
       "    }\n",
       "\n",
       "    .dataframe thead th {\n",
       "        text-align: right;\n",
       "    }\n",
       "</style>\n",
       "<table border=\"1\" class=\"dataframe\">\n",
       "  <thead>\n",
       "    <tr style=\"text-align: right;\">\n",
       "      <th></th>\n",
       "      <th>Age</th>\n",
       "      <th>Sex</th>\n",
       "      <th>ChestPainType</th>\n",
       "      <th>RestingBP</th>\n",
       "      <th>Cholesterol</th>\n",
       "      <th>FastingBS</th>\n",
       "      <th>RestingECG</th>\n",
       "      <th>MaxHR</th>\n",
       "      <th>ExerciseAngina</th>\n",
       "      <th>Oldpeak</th>\n",
       "      <th>ST_Slope</th>\n",
       "      <th>HeartDisease</th>\n",
       "      <th>Label Sex</th>\n",
       "      <th>Label ChestPainType</th>\n",
       "      <th>Label RestingECG</th>\n",
       "      <th>Label ExerciseAngina</th>\n",
       "    </tr>\n",
       "  </thead>\n",
       "  <tbody>\n",
       "    <tr>\n",
       "      <th>372</th>\n",
       "      <td>63</td>\n",
       "      <td>M</td>\n",
       "      <td>ASY</td>\n",
       "      <td>185</td>\n",
       "      <td>0</td>\n",
       "      <td>0</td>\n",
       "      <td>Normal</td>\n",
       "      <td>98</td>\n",
       "      <td>Y</td>\n",
       "      <td>0.0</td>\n",
       "      <td>Up</td>\n",
       "      <td>1</td>\n",
       "      <td>1</td>\n",
       "      <td>0</td>\n",
       "      <td>1</td>\n",
       "      <td>1</td>\n",
       "    </tr>\n",
       "    <tr>\n",
       "      <th>126</th>\n",
       "      <td>34</td>\n",
       "      <td>F</td>\n",
       "      <td>ATA</td>\n",
       "      <td>130</td>\n",
       "      <td>161</td>\n",
       "      <td>0</td>\n",
       "      <td>Normal</td>\n",
       "      <td>190</td>\n",
       "      <td>N</td>\n",
       "      <td>0.0</td>\n",
       "      <td>Up</td>\n",
       "      <td>0</td>\n",
       "      <td>0</td>\n",
       "      <td>1</td>\n",
       "      <td>1</td>\n",
       "      <td>0</td>\n",
       "    </tr>\n",
       "    <tr>\n",
       "      <th>340</th>\n",
       "      <td>43</td>\n",
       "      <td>M</td>\n",
       "      <td>ASY</td>\n",
       "      <td>100</td>\n",
       "      <td>0</td>\n",
       "      <td>1</td>\n",
       "      <td>Normal</td>\n",
       "      <td>122</td>\n",
       "      <td>N</td>\n",
       "      <td>1.5</td>\n",
       "      <td>Down</td>\n",
       "      <td>1</td>\n",
       "      <td>1</td>\n",
       "      <td>0</td>\n",
       "      <td>1</td>\n",
       "      <td>0</td>\n",
       "    </tr>\n",
       "    <tr>\n",
       "      <th>322</th>\n",
       "      <td>38</td>\n",
       "      <td>F</td>\n",
       "      <td>ASY</td>\n",
       "      <td>105</td>\n",
       "      <td>0</td>\n",
       "      <td>1</td>\n",
       "      <td>Normal</td>\n",
       "      <td>166</td>\n",
       "      <td>N</td>\n",
       "      <td>2.8</td>\n",
       "      <td>Up</td>\n",
       "      <td>1</td>\n",
       "      <td>0</td>\n",
       "      <td>0</td>\n",
       "      <td>1</td>\n",
       "      <td>0</td>\n",
       "    </tr>\n",
       "    <tr>\n",
       "      <th>479</th>\n",
       "      <td>56</td>\n",
       "      <td>M</td>\n",
       "      <td>NAP</td>\n",
       "      <td>170</td>\n",
       "      <td>0</td>\n",
       "      <td>0</td>\n",
       "      <td>LVH</td>\n",
       "      <td>123</td>\n",
       "      <td>Y</td>\n",
       "      <td>2.5</td>\n",
       "      <td>Flat</td>\n",
       "      <td>1</td>\n",
       "      <td>1</td>\n",
       "      <td>2</td>\n",
       "      <td>0</td>\n",
       "      <td>1</td>\n",
       "    </tr>\n",
       "    <tr>\n",
       "      <th>554</th>\n",
       "      <td>53</td>\n",
       "      <td>M</td>\n",
       "      <td>NAP</td>\n",
       "      <td>155</td>\n",
       "      <td>175</td>\n",
       "      <td>1</td>\n",
       "      <td>ST</td>\n",
       "      <td>160</td>\n",
       "      <td>N</td>\n",
       "      <td>0.3</td>\n",
       "      <td>Up</td>\n",
       "      <td>0</td>\n",
       "      <td>1</td>\n",
       "      <td>2</td>\n",
       "      <td>2</td>\n",
       "      <td>0</td>\n",
       "    </tr>\n",
       "    <tr>\n",
       "      <th>180</th>\n",
       "      <td>52</td>\n",
       "      <td>M</td>\n",
       "      <td>ASY</td>\n",
       "      <td>130</td>\n",
       "      <td>225</td>\n",
       "      <td>0</td>\n",
       "      <td>Normal</td>\n",
       "      <td>120</td>\n",
       "      <td>Y</td>\n",
       "      <td>2.0</td>\n",
       "      <td>Flat</td>\n",
       "      <td>1</td>\n",
       "      <td>1</td>\n",
       "      <td>0</td>\n",
       "      <td>1</td>\n",
       "      <td>1</td>\n",
       "    </tr>\n",
       "    <tr>\n",
       "      <th>315</th>\n",
       "      <td>74</td>\n",
       "      <td>M</td>\n",
       "      <td>ATA</td>\n",
       "      <td>145</td>\n",
       "      <td>0</td>\n",
       "      <td>1</td>\n",
       "      <td>ST</td>\n",
       "      <td>123</td>\n",
       "      <td>N</td>\n",
       "      <td>1.3</td>\n",
       "      <td>Up</td>\n",
       "      <td>1</td>\n",
       "      <td>1</td>\n",
       "      <td>1</td>\n",
       "      <td>2</td>\n",
       "      <td>0</td>\n",
       "    </tr>\n",
       "    <tr>\n",
       "      <th>473</th>\n",
       "      <td>60</td>\n",
       "      <td>M</td>\n",
       "      <td>NAP</td>\n",
       "      <td>141</td>\n",
       "      <td>316</td>\n",
       "      <td>1</td>\n",
       "      <td>ST</td>\n",
       "      <td>122</td>\n",
       "      <td>Y</td>\n",
       "      <td>1.7</td>\n",
       "      <td>Flat</td>\n",
       "      <td>1</td>\n",
       "      <td>1</td>\n",
       "      <td>2</td>\n",
       "      <td>2</td>\n",
       "      <td>1</td>\n",
       "    </tr>\n",
       "    <tr>\n",
       "      <th>565</th>\n",
       "      <td>61</td>\n",
       "      <td>M</td>\n",
       "      <td>ASY</td>\n",
       "      <td>141</td>\n",
       "      <td>292</td>\n",
       "      <td>0</td>\n",
       "      <td>ST</td>\n",
       "      <td>115</td>\n",
       "      <td>Y</td>\n",
       "      <td>1.7</td>\n",
       "      <td>Flat</td>\n",
       "      <td>1</td>\n",
       "      <td>1</td>\n",
       "      <td>0</td>\n",
       "      <td>2</td>\n",
       "      <td>1</td>\n",
       "    </tr>\n",
       "  </tbody>\n",
       "</table>\n",
       "</div>"
      ],
      "text/plain": [
       "     Age Sex ChestPainType  RestingBP  Cholesterol  FastingBS RestingECG  \\\n",
       "372   63   M           ASY        185            0          0     Normal   \n",
       "126   34   F           ATA        130          161          0     Normal   \n",
       "340   43   M           ASY        100            0          1     Normal   \n",
       "322   38   F           ASY        105            0          1     Normal   \n",
       "479   56   M           NAP        170            0          0        LVH   \n",
       "554   53   M           NAP        155          175          1         ST   \n",
       "180   52   M           ASY        130          225          0     Normal   \n",
       "315   74   M           ATA        145            0          1         ST   \n",
       "473   60   M           NAP        141          316          1         ST   \n",
       "565   61   M           ASY        141          292          0         ST   \n",
       "\n",
       "     MaxHR ExerciseAngina  Oldpeak ST_Slope  HeartDisease  Label Sex  \\\n",
       "372     98              Y      0.0       Up             1          1   \n",
       "126    190              N      0.0       Up             0          0   \n",
       "340    122              N      1.5     Down             1          1   \n",
       "322    166              N      2.8       Up             1          0   \n",
       "479    123              Y      2.5     Flat             1          1   \n",
       "554    160              N      0.3       Up             0          1   \n",
       "180    120              Y      2.0     Flat             1          1   \n",
       "315    123              N      1.3       Up             1          1   \n",
       "473    122              Y      1.7     Flat             1          1   \n",
       "565    115              Y      1.7     Flat             1          1   \n",
       "\n",
       "     Label ChestPainType  Label RestingECG  Label ExerciseAngina  \n",
       "372                    0                 1                     1  \n",
       "126                    1                 1                     0  \n",
       "340                    0                 1                     0  \n",
       "322                    0                 1                     0  \n",
       "479                    2                 0                     1  \n",
       "554                    2                 2                     0  \n",
       "180                    0                 1                     1  \n",
       "315                    1                 2                     0  \n",
       "473                    2                 2                     1  \n",
       "565                    0                 2                     1  "
      ]
     },
     "execution_count": 19,
     "metadata": {},
     "output_type": "execute_result"
    }
   ],
   "source": [
    "dataset.sample(10)"
   ]
  },
  {
   "cell_type": "code",
   "execution_count": 20,
   "id": "88b5b733",
   "metadata": {},
   "outputs": [],
   "source": [
    "dataset['Label ST_Slope'] = labelST_Slope.fit_transform(dataset['ST_Slope'])"
   ]
  },
  {
   "cell_type": "code",
   "execution_count": 21,
   "id": "65505c62",
   "metadata": {},
   "outputs": [
    {
     "data": {
      "text/html": [
       "<div>\n",
       "<style scoped>\n",
       "    .dataframe tbody tr th:only-of-type {\n",
       "        vertical-align: middle;\n",
       "    }\n",
       "\n",
       "    .dataframe tbody tr th {\n",
       "        vertical-align: top;\n",
       "    }\n",
       "\n",
       "    .dataframe thead th {\n",
       "        text-align: right;\n",
       "    }\n",
       "</style>\n",
       "<table border=\"1\" class=\"dataframe\">\n",
       "  <thead>\n",
       "    <tr style=\"text-align: right;\">\n",
       "      <th></th>\n",
       "      <th>Age</th>\n",
       "      <th>Sex</th>\n",
       "      <th>ChestPainType</th>\n",
       "      <th>RestingBP</th>\n",
       "      <th>Cholesterol</th>\n",
       "      <th>FastingBS</th>\n",
       "      <th>RestingECG</th>\n",
       "      <th>MaxHR</th>\n",
       "      <th>ExerciseAngina</th>\n",
       "      <th>Oldpeak</th>\n",
       "      <th>ST_Slope</th>\n",
       "      <th>HeartDisease</th>\n",
       "      <th>Label Sex</th>\n",
       "      <th>Label ChestPainType</th>\n",
       "      <th>Label RestingECG</th>\n",
       "      <th>Label ExerciseAngina</th>\n",
       "      <th>Label ST_Slope</th>\n",
       "    </tr>\n",
       "  </thead>\n",
       "  <tbody>\n",
       "    <tr>\n",
       "      <th>858</th>\n",
       "      <td>62</td>\n",
       "      <td>F</td>\n",
       "      <td>ASY</td>\n",
       "      <td>140</td>\n",
       "      <td>268</td>\n",
       "      <td>0</td>\n",
       "      <td>LVH</td>\n",
       "      <td>160</td>\n",
       "      <td>N</td>\n",
       "      <td>3.6</td>\n",
       "      <td>Down</td>\n",
       "      <td>1</td>\n",
       "      <td>0</td>\n",
       "      <td>0</td>\n",
       "      <td>0</td>\n",
       "      <td>0</td>\n",
       "      <td>0</td>\n",
       "    </tr>\n",
       "    <tr>\n",
       "      <th>823</th>\n",
       "      <td>64</td>\n",
       "      <td>M</td>\n",
       "      <td>NAP</td>\n",
       "      <td>125</td>\n",
       "      <td>309</td>\n",
       "      <td>0</td>\n",
       "      <td>Normal</td>\n",
       "      <td>131</td>\n",
       "      <td>Y</td>\n",
       "      <td>1.8</td>\n",
       "      <td>Flat</td>\n",
       "      <td>1</td>\n",
       "      <td>1</td>\n",
       "      <td>2</td>\n",
       "      <td>1</td>\n",
       "      <td>1</td>\n",
       "      <td>1</td>\n",
       "    </tr>\n",
       "    <tr>\n",
       "      <th>842</th>\n",
       "      <td>43</td>\n",
       "      <td>F</td>\n",
       "      <td>ASY</td>\n",
       "      <td>132</td>\n",
       "      <td>341</td>\n",
       "      <td>1</td>\n",
       "      <td>LVH</td>\n",
       "      <td>136</td>\n",
       "      <td>Y</td>\n",
       "      <td>3.0</td>\n",
       "      <td>Flat</td>\n",
       "      <td>1</td>\n",
       "      <td>0</td>\n",
       "      <td>0</td>\n",
       "      <td>0</td>\n",
       "      <td>1</td>\n",
       "      <td>1</td>\n",
       "    </tr>\n",
       "    <tr>\n",
       "      <th>659</th>\n",
       "      <td>59</td>\n",
       "      <td>M</td>\n",
       "      <td>NAP</td>\n",
       "      <td>126</td>\n",
       "      <td>218</td>\n",
       "      <td>1</td>\n",
       "      <td>Normal</td>\n",
       "      <td>134</td>\n",
       "      <td>N</td>\n",
       "      <td>2.2</td>\n",
       "      <td>Flat</td>\n",
       "      <td>1</td>\n",
       "      <td>1</td>\n",
       "      <td>2</td>\n",
       "      <td>1</td>\n",
       "      <td>0</td>\n",
       "      <td>1</td>\n",
       "    </tr>\n",
       "    <tr>\n",
       "      <th>131</th>\n",
       "      <td>46</td>\n",
       "      <td>M</td>\n",
       "      <td>ASY</td>\n",
       "      <td>110</td>\n",
       "      <td>202</td>\n",
       "      <td>0</td>\n",
       "      <td>Normal</td>\n",
       "      <td>150</td>\n",
       "      <td>Y</td>\n",
       "      <td>0.0</td>\n",
       "      <td>Flat</td>\n",
       "      <td>1</td>\n",
       "      <td>1</td>\n",
       "      <td>0</td>\n",
       "      <td>1</td>\n",
       "      <td>1</td>\n",
       "      <td>1</td>\n",
       "    </tr>\n",
       "    <tr>\n",
       "      <th>137</th>\n",
       "      <td>39</td>\n",
       "      <td>M</td>\n",
       "      <td>ATA</td>\n",
       "      <td>120</td>\n",
       "      <td>241</td>\n",
       "      <td>0</td>\n",
       "      <td>ST</td>\n",
       "      <td>146</td>\n",
       "      <td>N</td>\n",
       "      <td>2.0</td>\n",
       "      <td>Up</td>\n",
       "      <td>0</td>\n",
       "      <td>1</td>\n",
       "      <td>1</td>\n",
       "      <td>2</td>\n",
       "      <td>0</td>\n",
       "      <td>2</td>\n",
       "    </tr>\n",
       "    <tr>\n",
       "      <th>196</th>\n",
       "      <td>49</td>\n",
       "      <td>M</td>\n",
       "      <td>ASY</td>\n",
       "      <td>120</td>\n",
       "      <td>297</td>\n",
       "      <td>0</td>\n",
       "      <td>Normal</td>\n",
       "      <td>132</td>\n",
       "      <td>N</td>\n",
       "      <td>1.0</td>\n",
       "      <td>Flat</td>\n",
       "      <td>0</td>\n",
       "      <td>1</td>\n",
       "      <td>0</td>\n",
       "      <td>1</td>\n",
       "      <td>0</td>\n",
       "      <td>1</td>\n",
       "    </tr>\n",
       "    <tr>\n",
       "      <th>565</th>\n",
       "      <td>61</td>\n",
       "      <td>M</td>\n",
       "      <td>ASY</td>\n",
       "      <td>141</td>\n",
       "      <td>292</td>\n",
       "      <td>0</td>\n",
       "      <td>ST</td>\n",
       "      <td>115</td>\n",
       "      <td>Y</td>\n",
       "      <td>1.7</td>\n",
       "      <td>Flat</td>\n",
       "      <td>1</td>\n",
       "      <td>1</td>\n",
       "      <td>0</td>\n",
       "      <td>2</td>\n",
       "      <td>1</td>\n",
       "      <td>1</td>\n",
       "    </tr>\n",
       "    <tr>\n",
       "      <th>806</th>\n",
       "      <td>70</td>\n",
       "      <td>M</td>\n",
       "      <td>ASY</td>\n",
       "      <td>145</td>\n",
       "      <td>174</td>\n",
       "      <td>0</td>\n",
       "      <td>Normal</td>\n",
       "      <td>125</td>\n",
       "      <td>Y</td>\n",
       "      <td>2.6</td>\n",
       "      <td>Down</td>\n",
       "      <td>1</td>\n",
       "      <td>1</td>\n",
       "      <td>0</td>\n",
       "      <td>1</td>\n",
       "      <td>1</td>\n",
       "      <td>0</td>\n",
       "    </tr>\n",
       "    <tr>\n",
       "      <th>860</th>\n",
       "      <td>60</td>\n",
       "      <td>M</td>\n",
       "      <td>ASY</td>\n",
       "      <td>130</td>\n",
       "      <td>253</td>\n",
       "      <td>0</td>\n",
       "      <td>Normal</td>\n",
       "      <td>144</td>\n",
       "      <td>Y</td>\n",
       "      <td>1.4</td>\n",
       "      <td>Up</td>\n",
       "      <td>1</td>\n",
       "      <td>1</td>\n",
       "      <td>0</td>\n",
       "      <td>1</td>\n",
       "      <td>1</td>\n",
       "      <td>2</td>\n",
       "    </tr>\n",
       "  </tbody>\n",
       "</table>\n",
       "</div>"
      ],
      "text/plain": [
       "     Age Sex ChestPainType  RestingBP  Cholesterol  FastingBS RestingECG  \\\n",
       "858   62   F           ASY        140          268          0        LVH   \n",
       "823   64   M           NAP        125          309          0     Normal   \n",
       "842   43   F           ASY        132          341          1        LVH   \n",
       "659   59   M           NAP        126          218          1     Normal   \n",
       "131   46   M           ASY        110          202          0     Normal   \n",
       "137   39   M           ATA        120          241          0         ST   \n",
       "196   49   M           ASY        120          297          0     Normal   \n",
       "565   61   M           ASY        141          292          0         ST   \n",
       "806   70   M           ASY        145          174          0     Normal   \n",
       "860   60   M           ASY        130          253          0     Normal   \n",
       "\n",
       "     MaxHR ExerciseAngina  Oldpeak ST_Slope  HeartDisease  Label Sex  \\\n",
       "858    160              N      3.6     Down             1          0   \n",
       "823    131              Y      1.8     Flat             1          1   \n",
       "842    136              Y      3.0     Flat             1          0   \n",
       "659    134              N      2.2     Flat             1          1   \n",
       "131    150              Y      0.0     Flat             1          1   \n",
       "137    146              N      2.0       Up             0          1   \n",
       "196    132              N      1.0     Flat             0          1   \n",
       "565    115              Y      1.7     Flat             1          1   \n",
       "806    125              Y      2.6     Down             1          1   \n",
       "860    144              Y      1.4       Up             1          1   \n",
       "\n",
       "     Label ChestPainType  Label RestingECG  Label ExerciseAngina  \\\n",
       "858                    0                 0                     0   \n",
       "823                    2                 1                     1   \n",
       "842                    0                 0                     1   \n",
       "659                    2                 1                     0   \n",
       "131                    0                 1                     1   \n",
       "137                    1                 2                     0   \n",
       "196                    0                 1                     0   \n",
       "565                    0                 2                     1   \n",
       "806                    0                 1                     1   \n",
       "860                    0                 1                     1   \n",
       "\n",
       "     Label ST_Slope  \n",
       "858               0  \n",
       "823               1  \n",
       "842               1  \n",
       "659               1  \n",
       "131               1  \n",
       "137               2  \n",
       "196               1  \n",
       "565               1  \n",
       "806               0  \n",
       "860               2  "
      ]
     },
     "execution_count": 21,
     "metadata": {},
     "output_type": "execute_result"
    }
   ],
   "source": [
    "dataset.sample(10)"
   ]
  },
  {
   "cell_type": "code",
   "execution_count": 22,
   "id": "c91cc412",
   "metadata": {},
   "outputs": [],
   "source": [
    "new_dataset = dataset.drop(['Sex', 'ChestPainType' , 'RestingECG', 'ExerciseAngina', 'ST_Slope'] , axis = 'columns')"
   ]
  },
  {
   "cell_type": "code",
   "execution_count": 23,
   "id": "642bcfb1",
   "metadata": {},
   "outputs": [
    {
     "data": {
      "text/html": [
       "<div>\n",
       "<style scoped>\n",
       "    .dataframe tbody tr th:only-of-type {\n",
       "        vertical-align: middle;\n",
       "    }\n",
       "\n",
       "    .dataframe tbody tr th {\n",
       "        vertical-align: top;\n",
       "    }\n",
       "\n",
       "    .dataframe thead th {\n",
       "        text-align: right;\n",
       "    }\n",
       "</style>\n",
       "<table border=\"1\" class=\"dataframe\">\n",
       "  <thead>\n",
       "    <tr style=\"text-align: right;\">\n",
       "      <th></th>\n",
       "      <th>Age</th>\n",
       "      <th>RestingBP</th>\n",
       "      <th>Cholesterol</th>\n",
       "      <th>FastingBS</th>\n",
       "      <th>MaxHR</th>\n",
       "      <th>Oldpeak</th>\n",
       "      <th>HeartDisease</th>\n",
       "      <th>Label Sex</th>\n",
       "      <th>Label ChestPainType</th>\n",
       "      <th>Label RestingECG</th>\n",
       "      <th>Label ExerciseAngina</th>\n",
       "      <th>Label ST_Slope</th>\n",
       "    </tr>\n",
       "  </thead>\n",
       "  <tbody>\n",
       "    <tr>\n",
       "      <th>76</th>\n",
       "      <td>32</td>\n",
       "      <td>118</td>\n",
       "      <td>529</td>\n",
       "      <td>0</td>\n",
       "      <td>130</td>\n",
       "      <td>0.0</td>\n",
       "      <td>1</td>\n",
       "      <td>1</td>\n",
       "      <td>0</td>\n",
       "      <td>1</td>\n",
       "      <td>0</td>\n",
       "      <td>1</td>\n",
       "    </tr>\n",
       "    <tr>\n",
       "      <th>570</th>\n",
       "      <td>56</td>\n",
       "      <td>128</td>\n",
       "      <td>223</td>\n",
       "      <td>0</td>\n",
       "      <td>119</td>\n",
       "      <td>2.0</td>\n",
       "      <td>1</td>\n",
       "      <td>1</td>\n",
       "      <td>0</td>\n",
       "      <td>2</td>\n",
       "      <td>1</td>\n",
       "      <td>0</td>\n",
       "    </tr>\n",
       "    <tr>\n",
       "      <th>6</th>\n",
       "      <td>45</td>\n",
       "      <td>130</td>\n",
       "      <td>237</td>\n",
       "      <td>0</td>\n",
       "      <td>170</td>\n",
       "      <td>0.0</td>\n",
       "      <td>0</td>\n",
       "      <td>0</td>\n",
       "      <td>1</td>\n",
       "      <td>1</td>\n",
       "      <td>0</td>\n",
       "      <td>2</td>\n",
       "    </tr>\n",
       "    <tr>\n",
       "      <th>740</th>\n",
       "      <td>54</td>\n",
       "      <td>160</td>\n",
       "      <td>201</td>\n",
       "      <td>0</td>\n",
       "      <td>163</td>\n",
       "      <td>0.0</td>\n",
       "      <td>0</td>\n",
       "      <td>0</td>\n",
       "      <td>2</td>\n",
       "      <td>1</td>\n",
       "      <td>0</td>\n",
       "      <td>2</td>\n",
       "    </tr>\n",
       "    <tr>\n",
       "      <th>745</th>\n",
       "      <td>63</td>\n",
       "      <td>108</td>\n",
       "      <td>269</td>\n",
       "      <td>0</td>\n",
       "      <td>169</td>\n",
       "      <td>1.8</td>\n",
       "      <td>1</td>\n",
       "      <td>0</td>\n",
       "      <td>0</td>\n",
       "      <td>1</td>\n",
       "      <td>1</td>\n",
       "      <td>1</td>\n",
       "    </tr>\n",
       "    <tr>\n",
       "      <th>504</th>\n",
       "      <td>62</td>\n",
       "      <td>158</td>\n",
       "      <td>210</td>\n",
       "      <td>1</td>\n",
       "      <td>112</td>\n",
       "      <td>3.0</td>\n",
       "      <td>1</td>\n",
       "      <td>1</td>\n",
       "      <td>0</td>\n",
       "      <td>1</td>\n",
       "      <td>1</td>\n",
       "      <td>0</td>\n",
       "    </tr>\n",
       "    <tr>\n",
       "      <th>197</th>\n",
       "      <td>42</td>\n",
       "      <td>150</td>\n",
       "      <td>268</td>\n",
       "      <td>0</td>\n",
       "      <td>136</td>\n",
       "      <td>0.0</td>\n",
       "      <td>0</td>\n",
       "      <td>1</td>\n",
       "      <td>1</td>\n",
       "      <td>1</td>\n",
       "      <td>0</td>\n",
       "      <td>2</td>\n",
       "    </tr>\n",
       "    <tr>\n",
       "      <th>287</th>\n",
       "      <td>53</td>\n",
       "      <td>120</td>\n",
       "      <td>181</td>\n",
       "      <td>0</td>\n",
       "      <td>132</td>\n",
       "      <td>0.0</td>\n",
       "      <td>0</td>\n",
       "      <td>1</td>\n",
       "      <td>1</td>\n",
       "      <td>1</td>\n",
       "      <td>0</td>\n",
       "      <td>2</td>\n",
       "    </tr>\n",
       "    <tr>\n",
       "      <th>99</th>\n",
       "      <td>41</td>\n",
       "      <td>125</td>\n",
       "      <td>269</td>\n",
       "      <td>0</td>\n",
       "      <td>144</td>\n",
       "      <td>0.0</td>\n",
       "      <td>0</td>\n",
       "      <td>1</td>\n",
       "      <td>1</td>\n",
       "      <td>1</td>\n",
       "      <td>0</td>\n",
       "      <td>2</td>\n",
       "    </tr>\n",
       "    <tr>\n",
       "      <th>171</th>\n",
       "      <td>40</td>\n",
       "      <td>140</td>\n",
       "      <td>235</td>\n",
       "      <td>0</td>\n",
       "      <td>188</td>\n",
       "      <td>0.0</td>\n",
       "      <td>0</td>\n",
       "      <td>1</td>\n",
       "      <td>2</td>\n",
       "      <td>1</td>\n",
       "      <td>0</td>\n",
       "      <td>2</td>\n",
       "    </tr>\n",
       "  </tbody>\n",
       "</table>\n",
       "</div>"
      ],
      "text/plain": [
       "     Age  RestingBP  Cholesterol  FastingBS  MaxHR  Oldpeak  HeartDisease  \\\n",
       "76    32        118          529          0    130      0.0             1   \n",
       "570   56        128          223          0    119      2.0             1   \n",
       "6     45        130          237          0    170      0.0             0   \n",
       "740   54        160          201          0    163      0.0             0   \n",
       "745   63        108          269          0    169      1.8             1   \n",
       "504   62        158          210          1    112      3.0             1   \n",
       "197   42        150          268          0    136      0.0             0   \n",
       "287   53        120          181          0    132      0.0             0   \n",
       "99    41        125          269          0    144      0.0             0   \n",
       "171   40        140          235          0    188      0.0             0   \n",
       "\n",
       "     Label Sex  Label ChestPainType  Label RestingECG  Label ExerciseAngina  \\\n",
       "76           1                    0                 1                     0   \n",
       "570          1                    0                 2                     1   \n",
       "6            0                    1                 1                     0   \n",
       "740          0                    2                 1                     0   \n",
       "745          0                    0                 1                     1   \n",
       "504          1                    0                 1                     1   \n",
       "197          1                    1                 1                     0   \n",
       "287          1                    1                 1                     0   \n",
       "99           1                    1                 1                     0   \n",
       "171          1                    2                 1                     0   \n",
       "\n",
       "     Label ST_Slope  \n",
       "76                1  \n",
       "570               0  \n",
       "6                 2  \n",
       "740               2  \n",
       "745               1  \n",
       "504               0  \n",
       "197               2  \n",
       "287               2  \n",
       "99                2  \n",
       "171               2  "
      ]
     },
     "execution_count": 23,
     "metadata": {},
     "output_type": "execute_result"
    }
   ],
   "source": [
    "new_dataset.sample(10)"
   ]
  },
  {
   "cell_type": "code",
   "execution_count": 24,
   "id": "6dda828e",
   "metadata": {},
   "outputs": [],
   "source": [
    "end_column = new_dataset.pop('HeartDisease')"
   ]
  },
  {
   "cell_type": "code",
   "execution_count": 25,
   "id": "d4a69a3e",
   "metadata": {},
   "outputs": [
    {
     "data": {
      "text/plain": [
       "0      0\n",
       "1      1\n",
       "2      0\n",
       "3      1\n",
       "4      0\n",
       "      ..\n",
       "913    1\n",
       "914    1\n",
       "915    1\n",
       "916    1\n",
       "917    0\n",
       "Name: HeartDisease, Length: 918, dtype: int64"
      ]
     },
     "execution_count": 25,
     "metadata": {},
     "output_type": "execute_result"
    }
   ],
   "source": [
    "end_column"
   ]
  },
  {
   "cell_type": "code",
   "execution_count": 26,
   "id": "3a0049bd",
   "metadata": {},
   "outputs": [],
   "source": [
    "new_dataset.insert(8, 'HeartDisease', end_column)"
   ]
  },
  {
   "cell_type": "code",
   "execution_count": 27,
   "id": "e74dd7a0",
   "metadata": {},
   "outputs": [
    {
     "data": {
      "text/html": [
       "<div>\n",
       "<style scoped>\n",
       "    .dataframe tbody tr th:only-of-type {\n",
       "        vertical-align: middle;\n",
       "    }\n",
       "\n",
       "    .dataframe tbody tr th {\n",
       "        vertical-align: top;\n",
       "    }\n",
       "\n",
       "    .dataframe thead th {\n",
       "        text-align: right;\n",
       "    }\n",
       "</style>\n",
       "<table border=\"1\" class=\"dataframe\">\n",
       "  <thead>\n",
       "    <tr style=\"text-align: right;\">\n",
       "      <th></th>\n",
       "      <th>Age</th>\n",
       "      <th>RestingBP</th>\n",
       "      <th>Cholesterol</th>\n",
       "      <th>FastingBS</th>\n",
       "      <th>MaxHR</th>\n",
       "      <th>Oldpeak</th>\n",
       "      <th>Label Sex</th>\n",
       "      <th>Label ChestPainType</th>\n",
       "      <th>HeartDisease</th>\n",
       "      <th>Label RestingECG</th>\n",
       "      <th>Label ExerciseAngina</th>\n",
       "      <th>Label ST_Slope</th>\n",
       "    </tr>\n",
       "  </thead>\n",
       "  <tbody>\n",
       "    <tr>\n",
       "      <th>288</th>\n",
       "      <td>48</td>\n",
       "      <td>133</td>\n",
       "      <td>308</td>\n",
       "      <td>0</td>\n",
       "      <td>156</td>\n",
       "      <td>2.0</td>\n",
       "      <td>0</td>\n",
       "      <td>1</td>\n",
       "      <td>0</td>\n",
       "      <td>2</td>\n",
       "      <td>0</td>\n",
       "      <td>2</td>\n",
       "    </tr>\n",
       "    <tr>\n",
       "      <th>896</th>\n",
       "      <td>47</td>\n",
       "      <td>130</td>\n",
       "      <td>253</td>\n",
       "      <td>0</td>\n",
       "      <td>179</td>\n",
       "      <td>0.0</td>\n",
       "      <td>1</td>\n",
       "      <td>2</td>\n",
       "      <td>0</td>\n",
       "      <td>1</td>\n",
       "      <td>0</td>\n",
       "      <td>2</td>\n",
       "    </tr>\n",
       "    <tr>\n",
       "      <th>155</th>\n",
       "      <td>56</td>\n",
       "      <td>155</td>\n",
       "      <td>342</td>\n",
       "      <td>1</td>\n",
       "      <td>150</td>\n",
       "      <td>3.0</td>\n",
       "      <td>1</td>\n",
       "      <td>0</td>\n",
       "      <td>1</td>\n",
       "      <td>1</td>\n",
       "      <td>1</td>\n",
       "      <td>1</td>\n",
       "    </tr>\n",
       "    <tr>\n",
       "      <th>592</th>\n",
       "      <td>61</td>\n",
       "      <td>190</td>\n",
       "      <td>287</td>\n",
       "      <td>1</td>\n",
       "      <td>150</td>\n",
       "      <td>2.0</td>\n",
       "      <td>1</td>\n",
       "      <td>0</td>\n",
       "      <td>1</td>\n",
       "      <td>0</td>\n",
       "      <td>1</td>\n",
       "      <td>0</td>\n",
       "    </tr>\n",
       "    <tr>\n",
       "      <th>897</th>\n",
       "      <td>55</td>\n",
       "      <td>128</td>\n",
       "      <td>205</td>\n",
       "      <td>0</td>\n",
       "      <td>130</td>\n",
       "      <td>2.0</td>\n",
       "      <td>0</td>\n",
       "      <td>0</td>\n",
       "      <td>1</td>\n",
       "      <td>2</td>\n",
       "      <td>1</td>\n",
       "      <td>1</td>\n",
       "    </tr>\n",
       "    <tr>\n",
       "      <th>731</th>\n",
       "      <td>46</td>\n",
       "      <td>120</td>\n",
       "      <td>249</td>\n",
       "      <td>0</td>\n",
       "      <td>144</td>\n",
       "      <td>0.8</td>\n",
       "      <td>1</td>\n",
       "      <td>0</td>\n",
       "      <td>1</td>\n",
       "      <td>0</td>\n",
       "      <td>0</td>\n",
       "      <td>2</td>\n",
       "    </tr>\n",
       "    <tr>\n",
       "      <th>32</th>\n",
       "      <td>54</td>\n",
       "      <td>125</td>\n",
       "      <td>224</td>\n",
       "      <td>0</td>\n",
       "      <td>122</td>\n",
       "      <td>2.0</td>\n",
       "      <td>1</td>\n",
       "      <td>0</td>\n",
       "      <td>1</td>\n",
       "      <td>1</td>\n",
       "      <td>0</td>\n",
       "      <td>1</td>\n",
       "    </tr>\n",
       "    <tr>\n",
       "      <th>876</th>\n",
       "      <td>60</td>\n",
       "      <td>130</td>\n",
       "      <td>206</td>\n",
       "      <td>0</td>\n",
       "      <td>132</td>\n",
       "      <td>2.4</td>\n",
       "      <td>1</td>\n",
       "      <td>0</td>\n",
       "      <td>1</td>\n",
       "      <td>0</td>\n",
       "      <td>1</td>\n",
       "      <td>1</td>\n",
       "    </tr>\n",
       "    <tr>\n",
       "      <th>459</th>\n",
       "      <td>41</td>\n",
       "      <td>104</td>\n",
       "      <td>0</td>\n",
       "      <td>0</td>\n",
       "      <td>111</td>\n",
       "      <td>0.0</td>\n",
       "      <td>1</td>\n",
       "      <td>0</td>\n",
       "      <td>0</td>\n",
       "      <td>2</td>\n",
       "      <td>0</td>\n",
       "      <td>2</td>\n",
       "    </tr>\n",
       "    <tr>\n",
       "      <th>342</th>\n",
       "      <td>61</td>\n",
       "      <td>110</td>\n",
       "      <td>0</td>\n",
       "      <td>1</td>\n",
       "      <td>113</td>\n",
       "      <td>1.4</td>\n",
       "      <td>1</td>\n",
       "      <td>0</td>\n",
       "      <td>1</td>\n",
       "      <td>1</td>\n",
       "      <td>0</td>\n",
       "      <td>1</td>\n",
       "    </tr>\n",
       "  </tbody>\n",
       "</table>\n",
       "</div>"
      ],
      "text/plain": [
       "     Age  RestingBP  Cholesterol  FastingBS  MaxHR  Oldpeak  Label Sex  \\\n",
       "288   48        133          308          0    156      2.0          0   \n",
       "896   47        130          253          0    179      0.0          1   \n",
       "155   56        155          342          1    150      3.0          1   \n",
       "592   61        190          287          1    150      2.0          1   \n",
       "897   55        128          205          0    130      2.0          0   \n",
       "731   46        120          249          0    144      0.8          1   \n",
       "32    54        125          224          0    122      2.0          1   \n",
       "876   60        130          206          0    132      2.4          1   \n",
       "459   41        104            0          0    111      0.0          1   \n",
       "342   61        110            0          1    113      1.4          1   \n",
       "\n",
       "     Label ChestPainType  HeartDisease  Label RestingECG  \\\n",
       "288                    1             0                 2   \n",
       "896                    2             0                 1   \n",
       "155                    0             1                 1   \n",
       "592                    0             1                 0   \n",
       "897                    0             1                 2   \n",
       "731                    0             1                 0   \n",
       "32                     0             1                 1   \n",
       "876                    0             1                 0   \n",
       "459                    0             0                 2   \n",
       "342                    0             1                 1   \n",
       "\n",
       "     Label ExerciseAngina  Label ST_Slope  \n",
       "288                     0               2  \n",
       "896                     0               2  \n",
       "155                     1               1  \n",
       "592                     1               0  \n",
       "897                     1               1  \n",
       "731                     0               2  \n",
       "32                      0               1  \n",
       "876                     1               1  \n",
       "459                     0               2  \n",
       "342                     0               1  "
      ]
     },
     "execution_count": 27,
     "metadata": {},
     "output_type": "execute_result"
    }
   ],
   "source": [
    "new_dataset.sample(10)"
   ]
  },
  {
   "cell_type": "code",
   "execution_count": 28,
   "id": "214a329d",
   "metadata": {},
   "outputs": [
    {
     "data": {
      "text/plain": [
       "(918, 12)"
      ]
     },
     "execution_count": 28,
     "metadata": {},
     "output_type": "execute_result"
    }
   ],
   "source": [
    "new_dataset.shape"
   ]
  },
  {
   "cell_type": "markdown",
   "id": "2a5be1a3",
   "metadata": {},
   "source": [
    "Showing graphical forms of our dataset"
   ]
  },
  {
   "cell_type": "code",
   "execution_count": 29,
   "id": "881b9474",
   "metadata": {},
   "outputs": [
    {
     "data": {
      "text/plain": [
       "<AxesSubplot:xlabel='HeartDisease', ylabel='count'>"
      ]
     },
     "execution_count": 29,
     "metadata": {},
     "output_type": "execute_result"
    },
    {
     "data": {
      "image/png": "[encoded data removed]",
      "text/plain": [
       "<Figure size 432x288 with 1 Axes>"
      ]
     },
     "metadata": {
      "needs_background": "light"
     },
     "output_type": "display_data"
    }
   ],
   "source": [
    "sns.countplot(x='HeartDisease', data=new_dataset)"
   ]
  },
  {
   "cell_type": "code",
   "execution_count": 30,
   "id": "f608a089",
   "metadata": {},
   "outputs": [
    {
     "data": {
      "text/plain": [
       "<AxesSubplot:xlabel='HeartDisease', ylabel='count'>"
      ]
     },
     "execution_count": 30,
     "metadata": {},
     "output_type": "execute_result"
    },
    {
     "data": {
      "image/png": "[encoded data removed]",
      "text/plain": [
       "<Figure size 432x288 with 1 Axes>"
      ]
     },
     "metadata": {
      "needs_background": "light"
     },
     "output_type": "display_data"
    }
   ],
   "source": [
    "sns.countplot(x='HeartDisease', hue='Age', data=new_dataset)"
   ]
  },
  {
   "cell_type": "code",
   "execution_count": 31,
   "id": "a25ae16b",
   "metadata": {},
   "outputs": [
    {
     "data": {
      "text/plain": [
       "<AxesSubplot:xlabel='HeartDisease', ylabel='count'>"
      ]
     },
     "execution_count": 31,
     "metadata": {},
     "output_type": "execute_result"
    },
    {
     "data": {
      "image/png": "[encoded data removed]",
      "text/plain": [
       "<Figure size 432x288 with 1 Axes>"
      ]
     },
     "metadata": {
      "needs_background": "light"
     },
     "output_type": "display_data"
    }
   ],
   "source": [
    "sns.countplot(x='HeartDisease', hue='RestingBP', data=new_dataset)"
   ]
  },
  {
   "cell_type": "code",
   "execution_count": 32,
   "id": "e0e5b6b3",
   "metadata": {},
   "outputs": [
    {
     "data": {
      "text/plain": [
       "<AxesSubplot:xlabel='HeartDisease', ylabel='count'>"
      ]
     },
     "execution_count": 32,
     "metadata": {},
     "output_type": "execute_result"
    },
    {
     "data": {
      "image/png": "[encoded data removed]",
      "text/plain": [
       "<Figure size 432x288 with 1 Axes>"
      ]
     },
     "metadata": {
      "needs_background": "light"
     },
     "output_type": "display_data"
    }
   ],
   "source": [
    "sns.countplot(x='HeartDisease', hue='Cholesterol', data=new_dataset)"
   ]
  },
  {
   "cell_type": "code",
   "execution_count": 33,
   "id": "e79884a5",
   "metadata": {},
   "outputs": [
    {
     "data": {
      "text/plain": [
       "<AxesSubplot:xlabel='HeartDisease', ylabel='count'>"
      ]
     },
     "execution_count": 33,
     "metadata": {},
     "output_type": "execute_result"
    },
    {
     "data": {
      "image/png": "[encoded data removed]",
      "text/plain": [
       "<Figure size 432x288 with 1 Axes>"
      ]
     },
     "metadata": {
      "needs_background": "light"
     },
     "output_type": "display_data"
    }
   ],
   "source": [
    "sns.countplot(x='HeartDisease', hue='FastingBS', data=new_dataset)"
   ]
  },
  {
   "cell_type": "code",
   "execution_count": 34,
   "id": "b7bf25a0",
   "metadata": {},
   "outputs": [
    {
     "data": {
      "text/plain": [
       "<AxesSubplot:xlabel='HeartDisease', ylabel='count'>"
      ]
     },
     "execution_count": 34,
     "metadata": {},
     "output_type": "execute_result"
    },
    {
     "data": {
      "image/png": "[encoded data removed]",
      "text/plain": [
       "<Figure size 432x288 with 1 Axes>"
      ]
     },
     "metadata": {
      "needs_background": "light"
     },
     "output_type": "display_data"
    }
   ],
   "source": [
    "sns.countplot(x='HeartDisease', hue='MaxHR', data=new_dataset)"
   ]
  },
  {
   "cell_type": "code",
   "execution_count": 35,
   "id": "365e7e5e",
   "metadata": {},
   "outputs": [
    {
     "data": {
      "text/plain": [
       "<AxesSubplot:xlabel='HeartDisease', ylabel='count'>"
      ]
     },
     "execution_count": 35,
     "metadata": {},
     "output_type": "execute_result"
    },
    {
     "data": {
      "image/png": "[encoded data removed]",
      "text/plain": [
       "<Figure size 432x288 with 1 Axes>"
      ]
     },
     "metadata": {
      "needs_background": "light"
     },
     "output_type": "display_data"
    }
   ],
   "source": [
    "sns.countplot(x='HeartDisease', hue='Oldpeak', data=new_dataset)"
   ]
  },
  {
   "cell_type": "code",
   "execution_count": 36,
   "id": "8fe10c0a",
   "metadata": {},
   "outputs": [
    {
     "data": {
      "text/plain": [
       "<AxesSubplot:xlabel='HeartDisease', ylabel='count'>"
      ]
     },
     "execution_count": 36,
     "metadata": {},
     "output_type": "execute_result"
    },
    {
     "data": {
      "image/png": "[encoded data removed]",
      "text/plain": [
       "<Figure size 432x288 with 1 Axes>"
      ]
     },
     "metadata": {
      "needs_background": "light"
     },
     "output_type": "display_data"
    }
   ],
   "source": [
    "sns.countplot(x='HeartDisease', hue='Label Sex', data=new_dataset)"
   ]
  },
  {
   "cell_type": "code",
   "execution_count": 37,
   "id": "4cbaf150",
   "metadata": {},
   "outputs": [
    {
     "data": {
      "text/plain": [
       "<AxesSubplot:xlabel='HeartDisease', ylabel='count'>"
      ]
     },
     "execution_count": 37,
     "metadata": {},
     "output_type": "execute_result"
    },
    {
     "data": {
      "image/png": "[encoded data removed]",
      "text/plain": [
       "<Figure size 432x288 with 1 Axes>"
      ]
     },
     "metadata": {
      "needs_background": "light"
     },
     "output_type": "display_data"
    }
   ],
   "source": [
    "sns.countplot(x='HeartDisease', hue='Label ChestPainType', data=new_dataset)"
   ]
  },
  {
   "cell_type": "code",
   "execution_count": 38,
   "id": "f6c1e1fd",
   "metadata": {},
   "outputs": [
    {
     "data": {
      "text/plain": [
       "<AxesSubplot:xlabel='HeartDisease', ylabel='count'>"
      ]
     },
     "execution_count": 38,
     "metadata": {},
     "output_type": "execute_result"
    },
    {
     "data": {
      "image/png": "[encoded data removed]",
      "text/plain": [
       "<Figure size 432x288 with 1 Axes>"
      ]
     },
     "metadata": {
      "needs_background": "light"
     },
     "output_type": "display_data"
    }
   ],
   "source": [
    "sns.countplot(x='HeartDisease', hue='Label RestingECG', data=new_dataset)"
   ]
  },
  {
   "cell_type": "code",
   "execution_count": 39,
   "id": "e3be0f86",
   "metadata": {},
   "outputs": [
    {
     "data": {
      "text/plain": [
       "<AxesSubplot:xlabel='HeartDisease', ylabel='count'>"
      ]
     },
     "execution_count": 39,
     "metadata": {},
     "output_type": "execute_result"
    },
    {
     "data": {
      "image/png": "[encoded data removed]",
      "text/plain": [
       "<Figure size 432x288 with 1 Axes>"
      ]
     },
     "metadata": {
      "needs_background": "light"
     },
     "output_type": "display_data"
    }
   ],
   "source": [
    "sns.countplot(x='HeartDisease', hue='Label ExerciseAngina', data=new_dataset)"
   ]
  },
  {
   "cell_type": "code",
   "execution_count": 40,
   "id": "b91e5497",
   "metadata": {},
   "outputs": [
    {
     "data": {
      "text/plain": [
       "<AxesSubplot:xlabel='HeartDisease', ylabel='count'>"
      ]
     },
     "execution_count": 40,
     "metadata": {},
     "output_type": "execute_result"
    },
    {
     "data": {
      "image/png": "[encoded data removed]",
      "text/plain": [
       "<Figure size 432x288 with 1 Axes>"
      ]
     },
     "metadata": {
      "needs_background": "light"
     },
     "output_type": "display_data"
    }
   ],
   "source": [
    "sns.countplot(x='HeartDisease', hue='Label ST_Slope', data=new_dataset)"
   ]
  },
  {
   "cell_type": "code",
   "execution_count": 41,
   "id": "ff0da498",
   "metadata": {},
   "outputs": [],
   "source": [
    "x_data = new_dataset.drop('HeartDisease', axis = 'columns')"
   ]
  },
  {
   "cell_type": "code",
   "execution_count": 42,
   "id": "4691ac20",
   "metadata": {},
   "outputs": [
    {
     "data": {
      "text/html": [
       "<div>\n",
       "<style scoped>\n",
       "    .dataframe tbody tr th:only-of-type {\n",
       "        vertical-align: middle;\n",
       "    }\n",
       "\n",
       "    .dataframe tbody tr th {\n",
       "        vertical-align: top;\n",
       "    }\n",
       "\n",
       "    .dataframe thead th {\n",
       "        text-align: right;\n",
       "    }\n",
       "</style>\n",
       "<table border=\"1\" class=\"dataframe\">\n",
       "  <thead>\n",
       "    <tr style=\"text-align: right;\">\n",
       "      <th></th>\n",
       "      <th>Age</th>\n",
       "      <th>RestingBP</th>\n",
       "      <th>Cholesterol</th>\n",
       "      <th>FastingBS</th>\n",
       "      <th>MaxHR</th>\n",
       "      <th>Oldpeak</th>\n",
       "      <th>Label Sex</th>\n",
       "      <th>Label ChestPainType</th>\n",
       "      <th>Label RestingECG</th>\n",
       "      <th>Label ExerciseAngina</th>\n",
       "      <th>Label ST_Slope</th>\n",
       "    </tr>\n",
       "  </thead>\n",
       "  <tbody>\n",
       "    <tr>\n",
       "      <th>900</th>\n",
       "      <td>58</td>\n",
       "      <td>114</td>\n",
       "      <td>318</td>\n",
       "      <td>0</td>\n",
       "      <td>140</td>\n",
       "      <td>4.4</td>\n",
       "      <td>1</td>\n",
       "      <td>0</td>\n",
       "      <td>2</td>\n",
       "      <td>0</td>\n",
       "      <td>0</td>\n",
       "    </tr>\n",
       "    <tr>\n",
       "      <th>215</th>\n",
       "      <td>30</td>\n",
       "      <td>170</td>\n",
       "      <td>237</td>\n",
       "      <td>0</td>\n",
       "      <td>170</td>\n",
       "      <td>0.0</td>\n",
       "      <td>0</td>\n",
       "      <td>3</td>\n",
       "      <td>2</td>\n",
       "      <td>0</td>\n",
       "      <td>2</td>\n",
       "    </tr>\n",
       "    <tr>\n",
       "      <th>241</th>\n",
       "      <td>54</td>\n",
       "      <td>200</td>\n",
       "      <td>198</td>\n",
       "      <td>0</td>\n",
       "      <td>142</td>\n",
       "      <td>2.0</td>\n",
       "      <td>1</td>\n",
       "      <td>0</td>\n",
       "      <td>1</td>\n",
       "      <td>1</td>\n",
       "      <td>1</td>\n",
       "    </tr>\n",
       "    <tr>\n",
       "      <th>860</th>\n",
       "      <td>60</td>\n",
       "      <td>130</td>\n",
       "      <td>253</td>\n",
       "      <td>0</td>\n",
       "      <td>144</td>\n",
       "      <td>1.4</td>\n",
       "      <td>1</td>\n",
       "      <td>0</td>\n",
       "      <td>1</td>\n",
       "      <td>1</td>\n",
       "      <td>2</td>\n",
       "    </tr>\n",
       "    <tr>\n",
       "      <th>540</th>\n",
       "      <td>62</td>\n",
       "      <td>138</td>\n",
       "      <td>204</td>\n",
       "      <td>0</td>\n",
       "      <td>122</td>\n",
       "      <td>1.2</td>\n",
       "      <td>1</td>\n",
       "      <td>2</td>\n",
       "      <td>2</td>\n",
       "      <td>1</td>\n",
       "      <td>1</td>\n",
       "    </tr>\n",
       "    <tr>\n",
       "      <th>279</th>\n",
       "      <td>54</td>\n",
       "      <td>130</td>\n",
       "      <td>253</td>\n",
       "      <td>0</td>\n",
       "      <td>155</td>\n",
       "      <td>0.0</td>\n",
       "      <td>0</td>\n",
       "      <td>1</td>\n",
       "      <td>2</td>\n",
       "      <td>0</td>\n",
       "      <td>2</td>\n",
       "    </tr>\n",
       "    <tr>\n",
       "      <th>428</th>\n",
       "      <td>62</td>\n",
       "      <td>110</td>\n",
       "      <td>0</td>\n",
       "      <td>0</td>\n",
       "      <td>120</td>\n",
       "      <td>0.5</td>\n",
       "      <td>1</td>\n",
       "      <td>0</td>\n",
       "      <td>1</td>\n",
       "      <td>1</td>\n",
       "      <td>1</td>\n",
       "    </tr>\n",
       "    <tr>\n",
       "      <th>454</th>\n",
       "      <td>58</td>\n",
       "      <td>136</td>\n",
       "      <td>203</td>\n",
       "      <td>1</td>\n",
       "      <td>123</td>\n",
       "      <td>1.2</td>\n",
       "      <td>1</td>\n",
       "      <td>0</td>\n",
       "      <td>1</td>\n",
       "      <td>1</td>\n",
       "      <td>1</td>\n",
       "    </tr>\n",
       "    <tr>\n",
       "      <th>692</th>\n",
       "      <td>39</td>\n",
       "      <td>94</td>\n",
       "      <td>199</td>\n",
       "      <td>0</td>\n",
       "      <td>179</td>\n",
       "      <td>0.0</td>\n",
       "      <td>0</td>\n",
       "      <td>2</td>\n",
       "      <td>1</td>\n",
       "      <td>0</td>\n",
       "      <td>2</td>\n",
       "    </tr>\n",
       "    <tr>\n",
       "      <th>230</th>\n",
       "      <td>37</td>\n",
       "      <td>130</td>\n",
       "      <td>315</td>\n",
       "      <td>0</td>\n",
       "      <td>158</td>\n",
       "      <td>0.0</td>\n",
       "      <td>1</td>\n",
       "      <td>0</td>\n",
       "      <td>1</td>\n",
       "      <td>0</td>\n",
       "      <td>2</td>\n",
       "    </tr>\n",
       "  </tbody>\n",
       "</table>\n",
       "</div>"
      ],
      "text/plain": [
       "     Age  RestingBP  Cholesterol  FastingBS  MaxHR  Oldpeak  Label Sex  \\\n",
       "900   58        114          318          0    140      4.4          1   \n",
       "215   30        170          237          0    170      0.0          0   \n",
       "241   54        200          198          0    142      2.0          1   \n",
       "860   60        130          253          0    144      1.4          1   \n",
       "540   62        138          204          0    122      1.2          1   \n",
       "279   54        130          253          0    155      0.0          0   \n",
       "428   62        110            0          0    120      0.5          1   \n",
       "454   58        136          203          1    123      1.2          1   \n",
       "692   39         94          199          0    179      0.0          0   \n",
       "230   37        130          315          0    158      0.0          1   \n",
       "\n",
       "     Label ChestPainType  Label RestingECG  Label ExerciseAngina  \\\n",
       "900                    0                 2                     0   \n",
       "215                    3                 2                     0   \n",
       "241                    0                 1                     1   \n",
       "860                    0                 1                     1   \n",
       "540                    2                 2                     1   \n",
       "279                    1                 2                     0   \n",
       "428                    0                 1                     1   \n",
       "454                    0                 1                     1   \n",
       "692                    2                 1                     0   \n",
       "230                    0                 1                     0   \n",
       "\n",
       "     Label ST_Slope  \n",
       "900               0  \n",
       "215               2  \n",
       "241               1  \n",
       "860               2  \n",
       "540               1  \n",
       "279               2  \n",
       "428               1  \n",
       "454               1  \n",
       "692               2  \n",
       "230               2  "
      ]
     },
     "execution_count": 42,
     "metadata": {},
     "output_type": "execute_result"
    }
   ],
   "source": [
    "x_data.sample(10)"
   ]
  },
  {
   "cell_type": "code",
   "execution_count": 43,
   "id": "7ddfc467",
   "metadata": {},
   "outputs": [
    {
     "data": {
      "text/plain": [
       "(918, 11)"
      ]
     },
     "execution_count": 43,
     "metadata": {},
     "output_type": "execute_result"
    }
   ],
   "source": [
    "x_data.shape"
   ]
  },
  {
   "cell_type": "code",
   "execution_count": 44,
   "id": "5a306d2c",
   "metadata": {},
   "outputs": [],
   "source": [
    "y_data = target"
   ]
  },
  {
   "cell_type": "code",
   "execution_count": 45,
   "id": "191c4800",
   "metadata": {},
   "outputs": [
    {
     "data": {
      "text/plain": [
       "188    0\n",
       "459    0\n",
       "743    0\n",
       "782    0\n",
       "339    1\n",
       "13     1\n",
       "893    1\n",
       "915    1\n",
       "648    1\n",
       "835    1\n",
       "Name: HeartDisease, dtype: int64"
      ]
     },
     "execution_count": 45,
     "metadata": {},
     "output_type": "execute_result"
    }
   ],
   "source": [
    "y_data.sample(10)"
   ]
  },
  {
   "cell_type": "code",
   "execution_count": 46,
   "id": "87ac144c",
   "metadata": {},
   "outputs": [
    {
     "data": {
      "text/plain": [
       "(918,)"
      ]
     },
     "execution_count": 46,
     "metadata": {},
     "output_type": "execute_result"
    }
   ],
   "source": [
    "y_data.shape"
   ]
  },
  {
   "cell_type": "markdown",
   "id": "787b69a5",
   "metadata": {},
   "source": [
    "Now importing train_test_split from sklearn.model_selection which will help us to split are data in two parts"
   ]
  },
  {
   "cell_type": "code",
   "execution_count": 47,
   "id": "95a7173e",
   "metadata": {},
   "outputs": [],
   "source": [
    "from sklearn.model_selection import train_test_split"
   ]
  },
  {
   "cell_type": "code",
   "execution_count": 48,
   "id": "f02aef80",
   "metadata": {},
   "outputs": [],
   "source": [
    "x_train_data, x_test_data, y_train_data, y_test_data = train_test_split(x_data, y_data, train_size=0.8, random_state=42)"
   ]
  },
  {
   "cell_type": "code",
   "execution_count": 49,
   "id": "b310021d",
   "metadata": {},
   "outputs": [
    {
     "data": {
      "text/html": [
       "<div>\n",
       "<style scoped>\n",
       "    .dataframe tbody tr th:only-of-type {\n",
       "        vertical-align: middle;\n",
       "    }\n",
       "\n",
       "    .dataframe tbody tr th {\n",
       "        vertical-align: top;\n",
       "    }\n",
       "\n",
       "    .dataframe thead th {\n",
       "        text-align: right;\n",
       "    }\n",
       "</style>\n",
       "<table border=\"1\" class=\"dataframe\">\n",
       "  <thead>\n",
       "    <tr style=\"text-align: right;\">\n",
       "      <th></th>\n",
       "      <th>Age</th>\n",
       "      <th>RestingBP</th>\n",
       "      <th>Cholesterol</th>\n",
       "      <th>FastingBS</th>\n",
       "      <th>MaxHR</th>\n",
       "      <th>Oldpeak</th>\n",
       "      <th>Label Sex</th>\n",
       "      <th>Label ChestPainType</th>\n",
       "      <th>Label RestingECG</th>\n",
       "      <th>Label ExerciseAngina</th>\n",
       "      <th>Label ST_Slope</th>\n",
       "    </tr>\n",
       "  </thead>\n",
       "  <tbody>\n",
       "    <tr>\n",
       "      <th>144</th>\n",
       "      <td>56</td>\n",
       "      <td>120</td>\n",
       "      <td>279</td>\n",
       "      <td>0</td>\n",
       "      <td>150</td>\n",
       "      <td>1.0</td>\n",
       "      <td>0</td>\n",
       "      <td>1</td>\n",
       "      <td>1</td>\n",
       "      <td>0</td>\n",
       "      <td>1</td>\n",
       "    </tr>\n",
       "    <tr>\n",
       "      <th>753</th>\n",
       "      <td>34</td>\n",
       "      <td>118</td>\n",
       "      <td>210</td>\n",
       "      <td>0</td>\n",
       "      <td>192</td>\n",
       "      <td>0.7</td>\n",
       "      <td>0</td>\n",
       "      <td>1</td>\n",
       "      <td>1</td>\n",
       "      <td>0</td>\n",
       "      <td>2</td>\n",
       "    </tr>\n",
       "    <tr>\n",
       "      <th>900</th>\n",
       "      <td>58</td>\n",
       "      <td>114</td>\n",
       "      <td>318</td>\n",
       "      <td>0</td>\n",
       "      <td>140</td>\n",
       "      <td>4.4</td>\n",
       "      <td>1</td>\n",
       "      <td>0</td>\n",
       "      <td>2</td>\n",
       "      <td>0</td>\n",
       "      <td>0</td>\n",
       "    </tr>\n",
       "    <tr>\n",
       "      <th>118</th>\n",
       "      <td>35</td>\n",
       "      <td>120</td>\n",
       "      <td>160</td>\n",
       "      <td>0</td>\n",
       "      <td>185</td>\n",
       "      <td>0.0</td>\n",
       "      <td>0</td>\n",
       "      <td>3</td>\n",
       "      <td>2</td>\n",
       "      <td>0</td>\n",
       "      <td>2</td>\n",
       "    </tr>\n",
       "    <tr>\n",
       "      <th>606</th>\n",
       "      <td>62</td>\n",
       "      <td>160</td>\n",
       "      <td>254</td>\n",
       "      <td>1</td>\n",
       "      <td>108</td>\n",
       "      <td>3.0</td>\n",
       "      <td>1</td>\n",
       "      <td>0</td>\n",
       "      <td>2</td>\n",
       "      <td>1</td>\n",
       "      <td>1</td>\n",
       "    </tr>\n",
       "    <tr>\n",
       "      <th>692</th>\n",
       "      <td>39</td>\n",
       "      <td>94</td>\n",
       "      <td>199</td>\n",
       "      <td>0</td>\n",
       "      <td>179</td>\n",
       "      <td>0.0</td>\n",
       "      <td>0</td>\n",
       "      <td>2</td>\n",
       "      <td>1</td>\n",
       "      <td>0</td>\n",
       "      <td>2</td>\n",
       "    </tr>\n",
       "    <tr>\n",
       "      <th>241</th>\n",
       "      <td>54</td>\n",
       "      <td>200</td>\n",
       "      <td>198</td>\n",
       "      <td>0</td>\n",
       "      <td>142</td>\n",
       "      <td>2.0</td>\n",
       "      <td>1</td>\n",
       "      <td>0</td>\n",
       "      <td>1</td>\n",
       "      <td>1</td>\n",
       "      <td>1</td>\n",
       "    </tr>\n",
       "    <tr>\n",
       "      <th>111</th>\n",
       "      <td>57</td>\n",
       "      <td>150</td>\n",
       "      <td>255</td>\n",
       "      <td>0</td>\n",
       "      <td>92</td>\n",
       "      <td>3.0</td>\n",
       "      <td>1</td>\n",
       "      <td>0</td>\n",
       "      <td>1</td>\n",
       "      <td>1</td>\n",
       "      <td>1</td>\n",
       "    </tr>\n",
       "    <tr>\n",
       "      <th>623</th>\n",
       "      <td>60</td>\n",
       "      <td>140</td>\n",
       "      <td>293</td>\n",
       "      <td>0</td>\n",
       "      <td>170</td>\n",
       "      <td>1.2</td>\n",
       "      <td>1</td>\n",
       "      <td>0</td>\n",
       "      <td>0</td>\n",
       "      <td>0</td>\n",
       "      <td>1</td>\n",
       "    </tr>\n",
       "    <tr>\n",
       "      <th>175</th>\n",
       "      <td>43</td>\n",
       "      <td>140</td>\n",
       "      <td>288</td>\n",
       "      <td>0</td>\n",
       "      <td>135</td>\n",
       "      <td>2.0</td>\n",
       "      <td>1</td>\n",
       "      <td>0</td>\n",
       "      <td>1</td>\n",
       "      <td>1</td>\n",
       "      <td>1</td>\n",
       "    </tr>\n",
       "  </tbody>\n",
       "</table>\n",
       "</div>"
      ],
      "text/plain": [
       "     Age  RestingBP  Cholesterol  FastingBS  MaxHR  Oldpeak  Label Sex  \\\n",
       "144   56        120          279          0    150      1.0          0   \n",
       "753   34        118          210          0    192      0.7          0   \n",
       "900   58        114          318          0    140      4.4          1   \n",
       "118   35        120          160          0    185      0.0          0   \n",
       "606   62        160          254          1    108      3.0          1   \n",
       "692   39         94          199          0    179      0.0          0   \n",
       "241   54        200          198          0    142      2.0          1   \n",
       "111   57        150          255          0     92      3.0          1   \n",
       "623   60        140          293          0    170      1.2          1   \n",
       "175   43        140          288          0    135      2.0          1   \n",
       "\n",
       "     Label ChestPainType  Label RestingECG  Label ExerciseAngina  \\\n",
       "144                    1                 1                     0   \n",
       "753                    1                 1                     0   \n",
       "900                    0                 2                     0   \n",
       "118                    3                 2                     0   \n",
       "606                    0                 2                     1   \n",
       "692                    2                 1                     0   \n",
       "241                    0                 1                     1   \n",
       "111                    0                 1                     1   \n",
       "623                    0                 0                     0   \n",
       "175                    0                 1                     1   \n",
       "\n",
       "     Label ST_Slope  \n",
       "144               1  \n",
       "753               2  \n",
       "900               0  \n",
       "118               2  \n",
       "606               1  \n",
       "692               2  \n",
       "241               1  \n",
       "111               1  \n",
       "623               1  \n",
       "175               1  "
      ]
     },
     "execution_count": 49,
     "metadata": {},
     "output_type": "execute_result"
    }
   ],
   "source": [
    "x_train_data.sample(10)"
   ]
  },
  {
   "cell_type": "code",
   "execution_count": 50,
   "id": "bbca18b9",
   "metadata": {},
   "outputs": [
    {
     "data": {
      "text/plain": [
       "(734, 11)"
      ]
     },
     "execution_count": 50,
     "metadata": {},
     "output_type": "execute_result"
    }
   ],
   "source": [
    "x_train_data.shape"
   ]
  },
  {
   "cell_type": "code",
   "execution_count": 51,
   "id": "3dc82814",
   "metadata": {},
   "outputs": [
    {
     "data": {
      "text/html": [
       "<div>\n",
       "<style scoped>\n",
       "    .dataframe tbody tr th:only-of-type {\n",
       "        vertical-align: middle;\n",
       "    }\n",
       "\n",
       "    .dataframe tbody tr th {\n",
       "        vertical-align: top;\n",
       "    }\n",
       "\n",
       "    .dataframe thead th {\n",
       "        text-align: right;\n",
       "    }\n",
       "</style>\n",
       "<table border=\"1\" class=\"dataframe\">\n",
       "  <thead>\n",
       "    <tr style=\"text-align: right;\">\n",
       "      <th></th>\n",
       "      <th>Age</th>\n",
       "      <th>RestingBP</th>\n",
       "      <th>Cholesterol</th>\n",
       "      <th>FastingBS</th>\n",
       "      <th>MaxHR</th>\n",
       "      <th>Oldpeak</th>\n",
       "      <th>Label Sex</th>\n",
       "      <th>Label ChestPainType</th>\n",
       "      <th>Label RestingECG</th>\n",
       "      <th>Label ExerciseAngina</th>\n",
       "      <th>Label ST_Slope</th>\n",
       "    </tr>\n",
       "  </thead>\n",
       "  <tbody>\n",
       "    <tr>\n",
       "      <th>292</th>\n",
       "      <td>53</td>\n",
       "      <td>130</td>\n",
       "      <td>182</td>\n",
       "      <td>0</td>\n",
       "      <td>148</td>\n",
       "      <td>0.0</td>\n",
       "      <td>1</td>\n",
       "      <td>0</td>\n",
       "      <td>1</td>\n",
       "      <td>0</td>\n",
       "      <td>2</td>\n",
       "    </tr>\n",
       "    <tr>\n",
       "      <th>611</th>\n",
       "      <td>62</td>\n",
       "      <td>135</td>\n",
       "      <td>139</td>\n",
       "      <td>0</td>\n",
       "      <td>137</td>\n",
       "      <td>0.2</td>\n",
       "      <td>1</td>\n",
       "      <td>3</td>\n",
       "      <td>2</td>\n",
       "      <td>0</td>\n",
       "      <td>2</td>\n",
       "    </tr>\n",
       "    <tr>\n",
       "      <th>759</th>\n",
       "      <td>54</td>\n",
       "      <td>192</td>\n",
       "      <td>283</td>\n",
       "      <td>0</td>\n",
       "      <td>195</td>\n",
       "      <td>0.0</td>\n",
       "      <td>1</td>\n",
       "      <td>1</td>\n",
       "      <td>0</td>\n",
       "      <td>0</td>\n",
       "      <td>2</td>\n",
       "    </tr>\n",
       "    <tr>\n",
       "      <th>165</th>\n",
       "      <td>46</td>\n",
       "      <td>140</td>\n",
       "      <td>272</td>\n",
       "      <td>1</td>\n",
       "      <td>175</td>\n",
       "      <td>2.0</td>\n",
       "      <td>1</td>\n",
       "      <td>3</td>\n",
       "      <td>1</td>\n",
       "      <td>0</td>\n",
       "      <td>1</td>\n",
       "    </tr>\n",
       "    <tr>\n",
       "      <th>903</th>\n",
       "      <td>56</td>\n",
       "      <td>130</td>\n",
       "      <td>221</td>\n",
       "      <td>0</td>\n",
       "      <td>163</td>\n",
       "      <td>0.0</td>\n",
       "      <td>1</td>\n",
       "      <td>1</td>\n",
       "      <td>0</td>\n",
       "      <td>0</td>\n",
       "      <td>2</td>\n",
       "    </tr>\n",
       "    <tr>\n",
       "      <th>107</th>\n",
       "      <td>34</td>\n",
       "      <td>150</td>\n",
       "      <td>214</td>\n",
       "      <td>0</td>\n",
       "      <td>168</td>\n",
       "      <td>0.0</td>\n",
       "      <td>1</td>\n",
       "      <td>1</td>\n",
       "      <td>2</td>\n",
       "      <td>0</td>\n",
       "      <td>2</td>\n",
       "    </tr>\n",
       "    <tr>\n",
       "      <th>732</th>\n",
       "      <td>56</td>\n",
       "      <td>200</td>\n",
       "      <td>288</td>\n",
       "      <td>1</td>\n",
       "      <td>133</td>\n",
       "      <td>4.0</td>\n",
       "      <td>0</td>\n",
       "      <td>0</td>\n",
       "      <td>0</td>\n",
       "      <td>1</td>\n",
       "      <td>0</td>\n",
       "    </tr>\n",
       "    <tr>\n",
       "      <th>713</th>\n",
       "      <td>64</td>\n",
       "      <td>140</td>\n",
       "      <td>313</td>\n",
       "      <td>0</td>\n",
       "      <td>133</td>\n",
       "      <td>0.2</td>\n",
       "      <td>0</td>\n",
       "      <td>2</td>\n",
       "      <td>1</td>\n",
       "      <td>0</td>\n",
       "      <td>2</td>\n",
       "    </tr>\n",
       "    <tr>\n",
       "      <th>426</th>\n",
       "      <td>56</td>\n",
       "      <td>126</td>\n",
       "      <td>166</td>\n",
       "      <td>0</td>\n",
       "      <td>140</td>\n",
       "      <td>0.0</td>\n",
       "      <td>1</td>\n",
       "      <td>1</td>\n",
       "      <td>2</td>\n",
       "      <td>0</td>\n",
       "      <td>2</td>\n",
       "    </tr>\n",
       "    <tr>\n",
       "      <th>522</th>\n",
       "      <td>50</td>\n",
       "      <td>144</td>\n",
       "      <td>349</td>\n",
       "      <td>0</td>\n",
       "      <td>120</td>\n",
       "      <td>1.0</td>\n",
       "      <td>1</td>\n",
       "      <td>0</td>\n",
       "      <td>0</td>\n",
       "      <td>1</td>\n",
       "      <td>2</td>\n",
       "    </tr>\n",
       "  </tbody>\n",
       "</table>\n",
       "</div>"
      ],
      "text/plain": [
       "     Age  RestingBP  Cholesterol  FastingBS  MaxHR  Oldpeak  Label Sex  \\\n",
       "292   53        130          182          0    148      0.0          1   \n",
       "611   62        135          139          0    137      0.2          1   \n",
       "759   54        192          283          0    195      0.0          1   \n",
       "165   46        140          272          1    175      2.0          1   \n",
       "903   56        130          221          0    163      0.0          1   \n",
       "107   34        150          214          0    168      0.0          1   \n",
       "732   56        200          288          1    133      4.0          0   \n",
       "713   64        140          313          0    133      0.2          0   \n",
       "426   56        126          166          0    140      0.0          1   \n",
       "522   50        144          349          0    120      1.0          1   \n",
       "\n",
       "     Label ChestPainType  Label RestingECG  Label ExerciseAngina  \\\n",
       "292                    0                 1                     0   \n",
       "611                    3                 2                     0   \n",
       "759                    1                 0                     0   \n",
       "165                    3                 1                     0   \n",
       "903                    1                 0                     0   \n",
       "107                    1                 2                     0   \n",
       "732                    0                 0                     1   \n",
       "713                    2                 1                     0   \n",
       "426                    1                 2                     0   \n",
       "522                    0                 0                     1   \n",
       "\n",
       "     Label ST_Slope  \n",
       "292               2  \n",
       "611               2  \n",
       "759               2  \n",
       "165               1  \n",
       "903               2  \n",
       "107               2  \n",
       "732               0  \n",
       "713               2  \n",
       "426               2  \n",
       "522               2  "
      ]
     },
     "execution_count": 51,
     "metadata": {},
     "output_type": "execute_result"
    }
   ],
   "source": [
    "x_test_data.sample(10)"
   ]
  },
  {
   "cell_type": "code",
   "execution_count": 52,
   "id": "0794a841",
   "metadata": {},
   "outputs": [
    {
     "data": {
      "text/plain": [
       "(184, 11)"
      ]
     },
     "execution_count": 52,
     "metadata": {},
     "output_type": "execute_result"
    }
   ],
   "source": [
    "x_test_data.shape"
   ]
  },
  {
   "cell_type": "code",
   "execution_count": 53,
   "id": "a92fc13c",
   "metadata": {},
   "outputs": [
    {
     "data": {
      "text/plain": [
       "301    0\n",
       "129    0\n",
       "228    0\n",
       "666    0\n",
       "406    1\n",
       "341    1\n",
       "563    1\n",
       "607    1\n",
       "869    0\n",
       "143    0\n",
       "Name: HeartDisease, dtype: int64"
      ]
     },
     "execution_count": 53,
     "metadata": {},
     "output_type": "execute_result"
    }
   ],
   "source": [
    "y_train_data.sample(10)"
   ]
  },
  {
   "cell_type": "code",
   "execution_count": 54,
   "id": "b2c32fda",
   "metadata": {},
   "outputs": [
    {
     "data": {
      "text/plain": [
       "(734,)"
      ]
     },
     "execution_count": 54,
     "metadata": {},
     "output_type": "execute_result"
    }
   ],
   "source": [
    "y_train_data.shape"
   ]
  },
  {
   "cell_type": "code",
   "execution_count": 55,
   "id": "7f9e3c88",
   "metadata": {},
   "outputs": [
    {
     "data": {
      "text/plain": [
       "120    1\n",
       "294    1\n",
       "328    1\n",
       "599    1\n",
       "429    1\n",
       "675    0\n",
       "141    1\n",
       "907    1\n",
       "439    0\n",
       "793    1\n",
       "Name: HeartDisease, dtype: int64"
      ]
     },
     "execution_count": 55,
     "metadata": {},
     "output_type": "execute_result"
    }
   ],
   "source": [
    "y_test_data.sample(10)"
   ]
  },
  {
   "cell_type": "code",
   "execution_count": 56,
   "id": "43749051",
   "metadata": {},
   "outputs": [
    {
     "data": {
      "text/plain": [
       "(184,)"
      ]
     },
     "execution_count": 56,
     "metadata": {},
     "output_type": "execute_result"
    }
   ],
   "source": [
    "y_test_data.shape"
   ]
  },
  {
   "cell_type": "markdown",
   "id": "0f932669",
   "metadata": {},
   "source": [
    "Here random_state is making our data deterministic."
   ]
  },
  {
   "cell_type": "markdown",
   "id": "bc63fc74",
   "metadata": {},
   "source": [
    "Importing StandardScaler from sklearn.preprocessing to scale our data"
   ]
  },
  {
   "cell_type": "code",
   "execution_count": 57,
   "id": "fcdf0a90",
   "metadata": {},
   "outputs": [],
   "source": [
    "from sklearn.preprocessing import StandardScaler"
   ]
  },
  {
   "cell_type": "code",
   "execution_count": 58,
   "id": "f7b95962",
   "metadata": {},
   "outputs": [],
   "source": [
    "scaler = StandardScaler()"
   ]
  },
  {
   "cell_type": "code",
   "execution_count": 59,
   "id": "dc904b64",
   "metadata": {},
   "outputs": [
    {
     "data": {
      "text/plain": [
       "StandardScaler()"
      ]
     },
     "execution_count": 59,
     "metadata": {},
     "output_type": "execute_result"
    }
   ],
   "source": [
    "scaler.fit(x_train_data)"
   ]
  },
  {
   "cell_type": "code",
   "execution_count": 60,
   "id": "ca18fa08",
   "metadata": {},
   "outputs": [],
   "source": [
    "scaled_x_train = scaler.transform(x_train_data)\n",
    "scaled_x_test = scaler.transform(x_test_data)"
   ]
  },
  {
   "cell_type": "code",
   "execution_count": 61,
   "id": "fa2418d1",
   "metadata": {},
   "outputs": [
    {
     "data": {
      "text/plain": [
       "array([[-1.24506731, -0.70898547,  0.372803  , ...,  0.01734236,\n",
       "        -0.83846064, -2.25746543],\n",
       "       [-1.8862362 , -0.16628515,  0.08614581, ...,  0.01734236,\n",
       "        -0.83846064,  1.07985506],\n",
       "       [ 0.25099346,  0.91911549,  0.12313384, ...,  0.01734236,\n",
       "         1.19266183, -0.58880518],\n",
       "       ...,\n",
       "       [ 0.67843939, -0.16628515,  0.49301407, ...,  0.01734236,\n",
       "         1.19266183,  1.07985506],\n",
       "       [ 0.67843939,  1.02765555, -1.84647842, ...,  1.60850411,\n",
       "         1.19266183,  1.07985506],\n",
       "       [-1.45879027,  0.91911549,  1.77834789, ...,  0.01734236,\n",
       "        -0.83846064, -0.58880518]])"
      ]
     },
     "execution_count": 61,
     "metadata": {},
     "output_type": "execute_result"
    }
   ],
   "source": [
    "scaled_x_train"
   ]
  },
  {
   "cell_type": "code",
   "execution_count": 62,
   "id": "dd880844",
   "metadata": {},
   "outputs": [],
   "source": [
    "scaled_x_train_data = pd.DataFrame(scaled_x_train, columns = new_dataset.drop('HeartDisease', axis=1).columns)"
   ]
  },
  {
   "cell_type": "code",
   "execution_count": 63,
   "id": "e37df417",
   "metadata": {},
   "outputs": [
    {
     "data": {
      "text/plain": [
       "(734, 11)"
      ]
     },
     "execution_count": 63,
     "metadata": {},
     "output_type": "execute_result"
    }
   ],
   "source": [
    "scaled_x_train_data.shape"
   ]
  },
  {
   "cell_type": "code",
   "execution_count": 64,
   "id": "eff537cb",
   "metadata": {},
   "outputs": [
    {
     "data": {
      "text/html": [
       "<div>\n",
       "<style scoped>\n",
       "    .dataframe tbody tr th:only-of-type {\n",
       "        vertical-align: middle;\n",
       "    }\n",
       "\n",
       "    .dataframe tbody tr th {\n",
       "        vertical-align: top;\n",
       "    }\n",
       "\n",
       "    .dataframe thead th {\n",
       "        text-align: right;\n",
       "    }\n",
       "</style>\n",
       "<table border=\"1\" class=\"dataframe\">\n",
       "  <thead>\n",
       "    <tr style=\"text-align: right;\">\n",
       "      <th></th>\n",
       "      <th>Age</th>\n",
       "      <th>RestingBP</th>\n",
       "      <th>Cholesterol</th>\n",
       "      <th>FastingBS</th>\n",
       "      <th>MaxHR</th>\n",
       "      <th>Oldpeak</th>\n",
       "      <th>Label Sex</th>\n",
       "      <th>Label ChestPainType</th>\n",
       "      <th>Label RestingECG</th>\n",
       "      <th>Label ExerciseAngina</th>\n",
       "      <th>Label ST_Slope</th>\n",
       "    </tr>\n",
       "  </thead>\n",
       "  <tbody>\n",
       "    <tr>\n",
       "      <th>570</th>\n",
       "      <td>1.640193</td>\n",
       "      <td>0.484955</td>\n",
       "      <td>0.095393</td>\n",
       "      <td>1.842609</td>\n",
       "      <td>-0.955218</td>\n",
       "      <td>0.549761</td>\n",
       "      <td>0.540605</td>\n",
       "      <td>-0.809746</td>\n",
       "      <td>1.608504</td>\n",
       "      <td>1.192662</td>\n",
       "      <td>-0.588805</td>\n",
       "    </tr>\n",
       "    <tr>\n",
       "      <th>573</th>\n",
       "      <td>2.174500</td>\n",
       "      <td>0.647765</td>\n",
       "      <td>0.150875</td>\n",
       "      <td>1.842609</td>\n",
       "      <td>-0.797190</td>\n",
       "      <td>0.826971</td>\n",
       "      <td>0.540605</td>\n",
       "      <td>2.379987</td>\n",
       "      <td>0.017342</td>\n",
       "      <td>1.192662</td>\n",
       "      <td>-0.588805</td>\n",
       "    </tr>\n",
       "    <tr>\n",
       "      <th>465</th>\n",
       "      <td>-1.245067</td>\n",
       "      <td>-0.708985</td>\n",
       "      <td>-0.015571</td>\n",
       "      <td>-0.542709</td>\n",
       "      <td>0.743581</td>\n",
       "      <td>-0.836286</td>\n",
       "      <td>0.540605</td>\n",
       "      <td>0.253498</td>\n",
       "      <td>0.017342</td>\n",
       "      <td>-0.838461</td>\n",
       "      <td>1.079855</td>\n",
       "    </tr>\n",
       "    <tr>\n",
       "      <th>405</th>\n",
       "      <td>-1.779375</td>\n",
       "      <td>-0.166285</td>\n",
       "      <td>-0.246746</td>\n",
       "      <td>-0.542709</td>\n",
       "      <td>1.889283</td>\n",
       "      <td>-0.836286</td>\n",
       "      <td>-1.849780</td>\n",
       "      <td>-0.809746</td>\n",
       "      <td>1.608504</td>\n",
       "      <td>-0.838461</td>\n",
       "      <td>1.079855</td>\n",
       "    </tr>\n",
       "    <tr>\n",
       "      <th>289</th>\n",
       "      <td>-1.886236</td>\n",
       "      <td>-0.708985</td>\n",
       "      <td>-0.311475</td>\n",
       "      <td>-0.542709</td>\n",
       "      <td>1.731255</td>\n",
       "      <td>-0.836286</td>\n",
       "      <td>0.540605</td>\n",
       "      <td>0.253498</td>\n",
       "      <td>0.017342</td>\n",
       "      <td>-0.838461</td>\n",
       "      <td>1.079855</td>\n",
       "    </tr>\n",
       "    <tr>\n",
       "      <th>531</th>\n",
       "      <td>-1.031344</td>\n",
       "      <td>0.376415</td>\n",
       "      <td>0.326568</td>\n",
       "      <td>-0.542709</td>\n",
       "      <td>1.731255</td>\n",
       "      <td>-0.836286</td>\n",
       "      <td>0.540605</td>\n",
       "      <td>1.316743</td>\n",
       "      <td>-1.573819</td>\n",
       "      <td>-0.838461</td>\n",
       "      <td>1.079855</td>\n",
       "    </tr>\n",
       "    <tr>\n",
       "      <th>237</th>\n",
       "      <td>1.105885</td>\n",
       "      <td>0.484955</td>\n",
       "      <td>0.705695</td>\n",
       "      <td>-0.542709</td>\n",
       "      <td>0.150977</td>\n",
       "      <td>0.087745</td>\n",
       "      <td>-1.849780</td>\n",
       "      <td>-0.809746</td>\n",
       "      <td>0.017342</td>\n",
       "      <td>1.192662</td>\n",
       "      <td>-0.588805</td>\n",
       "    </tr>\n",
       "    <tr>\n",
       "      <th>420</th>\n",
       "      <td>-1.138206</td>\n",
       "      <td>-0.057745</td>\n",
       "      <td>0.437532</td>\n",
       "      <td>1.842609</td>\n",
       "      <td>0.269498</td>\n",
       "      <td>-0.743883</td>\n",
       "      <td>0.540605</td>\n",
       "      <td>-0.809746</td>\n",
       "      <td>-1.573819</td>\n",
       "      <td>1.192662</td>\n",
       "      <td>-0.588805</td>\n",
       "    </tr>\n",
       "    <tr>\n",
       "      <th>477</th>\n",
       "      <td>0.464716</td>\n",
       "      <td>-0.708985</td>\n",
       "      <td>0.779671</td>\n",
       "      <td>-0.542709</td>\n",
       "      <td>0.941116</td>\n",
       "      <td>0.826971</td>\n",
       "      <td>0.540605</td>\n",
       "      <td>0.253498</td>\n",
       "      <td>-1.573819</td>\n",
       "      <td>-0.838461</td>\n",
       "      <td>-0.588805</td>\n",
       "    </tr>\n",
       "    <tr>\n",
       "      <th>442</th>\n",
       "      <td>-1.779375</td>\n",
       "      <td>0.376415</td>\n",
       "      <td>0.067652</td>\n",
       "      <td>-0.542709</td>\n",
       "      <td>-0.244093</td>\n",
       "      <td>0.549761</td>\n",
       "      <td>0.540605</td>\n",
       "      <td>-0.809746</td>\n",
       "      <td>0.017342</td>\n",
       "      <td>1.192662</td>\n",
       "      <td>-0.588805</td>\n",
       "    </tr>\n",
       "  </tbody>\n",
       "</table>\n",
       "</div>"
      ],
      "text/plain": [
       "          Age  RestingBP  Cholesterol  FastingBS     MaxHR   Oldpeak  \\\n",
       "570  1.640193   0.484955     0.095393   1.842609 -0.955218  0.549761   \n",
       "573  2.174500   0.647765     0.150875   1.842609 -0.797190  0.826971   \n",
       "465 -1.245067  -0.708985    -0.015571  -0.542709  0.743581 -0.836286   \n",
       "405 -1.779375  -0.166285    -0.246746  -0.542709  1.889283 -0.836286   \n",
       "289 -1.886236  -0.708985    -0.311475  -0.542709  1.731255 -0.836286   \n",
       "531 -1.031344   0.376415     0.326568  -0.542709  1.731255 -0.836286   \n",
       "237  1.105885   0.484955     0.705695  -0.542709  0.150977  0.087745   \n",
       "420 -1.138206  -0.057745     0.437532   1.842609  0.269498 -0.743883   \n",
       "477  0.464716  -0.708985     0.779671  -0.542709  0.941116  0.826971   \n",
       "442 -1.779375   0.376415     0.067652  -0.542709 -0.244093  0.549761   \n",
       "\n",
       "     Label Sex  Label ChestPainType  Label RestingECG  Label ExerciseAngina  \\\n",
       "570   0.540605            -0.809746          1.608504              1.192662   \n",
       "573   0.540605             2.379987          0.017342              1.192662   \n",
       "465   0.540605             0.253498          0.017342             -0.838461   \n",
       "405  -1.849780            -0.809746          1.608504             -0.838461   \n",
       "289   0.540605             0.253498          0.017342             -0.838461   \n",
       "531   0.540605             1.316743         -1.573819             -0.838461   \n",
       "237  -1.849780            -0.809746          0.017342              1.192662   \n",
       "420   0.540605            -0.809746         -1.573819              1.192662   \n",
       "477   0.540605             0.253498         -1.573819             -0.838461   \n",
       "442   0.540605            -0.809746          0.017342              1.192662   \n",
       "\n",
       "     Label ST_Slope  \n",
       "570       -0.588805  \n",
       "573       -0.588805  \n",
       "465        1.079855  \n",
       "405        1.079855  \n",
       "289        1.079855  \n",
       "531        1.079855  \n",
       "237       -0.588805  \n",
       "420       -0.588805  \n",
       "477       -0.588805  \n",
       "442       -0.588805  "
      ]
     },
     "execution_count": 64,
     "metadata": {},
     "output_type": "execute_result"
    }
   ],
   "source": [
    "scaled_x_train_data.sample(10)"
   ]
  },
  {
   "cell_type": "code",
   "execution_count": 65,
   "id": "47f355af",
   "metadata": {},
   "outputs": [
    {
     "data": {
      "text/plain": [
       "array([[ 0.99902384,  0.37641517, -0.04331227, ...,  0.01734236,\n",
       "        -0.83846064,  1.07985506],\n",
       "       [-0.06959099,  0.64776533,  2.94347064, ...,  0.01734236,\n",
       "        -0.83846064, -0.58880518],\n",
       "       [ 1.2127468 ,  1.46181581, -1.84647842, ...,  1.60850411,\n",
       "        -0.83846064, -0.58880518],\n",
       "       ...,\n",
       "       [ 1.10588532,  0.4306852 ,  0.40979102, ...,  1.60850411,\n",
       "         1.19266183, -0.58880518],\n",
       "       [-0.49703693, -0.16628515,  0.61322515, ...,  0.01734236,\n",
       "        -0.83846064,  1.07985506],\n",
       "       [ 1.10588532,  0.5934953 , -1.84647842, ...,  1.60850411,\n",
       "         1.19266183, -0.58880518]])"
      ]
     },
     "execution_count": 65,
     "metadata": {},
     "output_type": "execute_result"
    }
   ],
   "source": [
    "scaled_x_test"
   ]
  },
  {
   "cell_type": "code",
   "execution_count": 66,
   "id": "e326a63d",
   "metadata": {},
   "outputs": [],
   "source": [
    "scaled_x_test_data = pd.DataFrame(scaled_x_test, columns = new_dataset.drop('HeartDisease', axis=1).columns)"
   ]
  },
  {
   "cell_type": "code",
   "execution_count": 67,
   "id": "dbb27ed3",
   "metadata": {},
   "outputs": [
    {
     "data": {
      "text/plain": [
       "(184, 11)"
      ]
     },
     "execution_count": 67,
     "metadata": {},
     "output_type": "execute_result"
    }
   ],
   "source": [
    "scaled_x_test_data.shape"
   ]
  },
  {
   "cell_type": "code",
   "execution_count": 68,
   "id": "57f27926",
   "metadata": {},
   "outputs": [
    {
     "data": {
      "text/html": [
       "<div>\n",
       "<style scoped>\n",
       "    .dataframe tbody tr th:only-of-type {\n",
       "        vertical-align: middle;\n",
       "    }\n",
       "\n",
       "    .dataframe tbody tr th {\n",
       "        vertical-align: top;\n",
       "    }\n",
       "\n",
       "    .dataframe thead th {\n",
       "        text-align: right;\n",
       "    }\n",
       "</style>\n",
       "<table border=\"1\" class=\"dataframe\">\n",
       "  <thead>\n",
       "    <tr style=\"text-align: right;\">\n",
       "      <th></th>\n",
       "      <th>Age</th>\n",
       "      <th>RestingBP</th>\n",
       "      <th>Cholesterol</th>\n",
       "      <th>FastingBS</th>\n",
       "      <th>MaxHR</th>\n",
       "      <th>Oldpeak</th>\n",
       "      <th>Label Sex</th>\n",
       "      <th>Label ChestPainType</th>\n",
       "      <th>Label RestingECG</th>\n",
       "      <th>Label ExerciseAngina</th>\n",
       "      <th>Label ST_Slope</th>\n",
       "    </tr>\n",
       "  </thead>\n",
       "  <tbody>\n",
       "    <tr>\n",
       "      <th>51</th>\n",
       "      <td>-2.099959</td>\n",
       "      <td>0.919115</td>\n",
       "      <td>0.132381</td>\n",
       "      <td>-0.542709</td>\n",
       "      <td>1.257172</td>\n",
       "      <td>-0.836286</td>\n",
       "      <td>0.540605</td>\n",
       "      <td>0.253498</td>\n",
       "      <td>1.608504</td>\n",
       "      <td>-0.838461</td>\n",
       "      <td>1.079855</td>\n",
       "    </tr>\n",
       "    <tr>\n",
       "      <th>165</th>\n",
       "      <td>-0.283314</td>\n",
       "      <td>-1.251686</td>\n",
       "      <td>-1.846478</td>\n",
       "      <td>1.842609</td>\n",
       "      <td>-1.745357</td>\n",
       "      <td>-0.836286</td>\n",
       "      <td>0.540605</td>\n",
       "      <td>-0.809746</td>\n",
       "      <td>0.017342</td>\n",
       "      <td>-0.838461</td>\n",
       "      <td>-0.588805</td>\n",
       "    </tr>\n",
       "    <tr>\n",
       "      <th>28</th>\n",
       "      <td>-1.031344</td>\n",
       "      <td>-0.166285</td>\n",
       "      <td>0.178616</td>\n",
       "      <td>-0.542709</td>\n",
       "      <td>2.047311</td>\n",
       "      <td>-0.836286</td>\n",
       "      <td>0.540605</td>\n",
       "      <td>0.253498</td>\n",
       "      <td>-1.573819</td>\n",
       "      <td>-0.838461</td>\n",
       "      <td>1.079855</td>\n",
       "    </tr>\n",
       "    <tr>\n",
       "      <th>104</th>\n",
       "      <td>0.464716</td>\n",
       "      <td>-0.926066</td>\n",
       "      <td>-1.846478</td>\n",
       "      <td>-0.542709</td>\n",
       "      <td>-0.481135</td>\n",
       "      <td>0.087745</td>\n",
       "      <td>0.540605</td>\n",
       "      <td>-0.809746</td>\n",
       "      <td>0.017342</td>\n",
       "      <td>-0.838461</td>\n",
       "      <td>1.079855</td>\n",
       "    </tr>\n",
       "    <tr>\n",
       "      <th>74</th>\n",
       "      <td>-0.069591</td>\n",
       "      <td>-0.166285</td>\n",
       "      <td>-0.163523</td>\n",
       "      <td>-0.542709</td>\n",
       "      <td>0.467033</td>\n",
       "      <td>-0.836286</td>\n",
       "      <td>0.540605</td>\n",
       "      <td>-0.809746</td>\n",
       "      <td>0.017342</td>\n",
       "      <td>-0.838461</td>\n",
       "      <td>1.079855</td>\n",
       "    </tr>\n",
       "    <tr>\n",
       "      <th>137</th>\n",
       "      <td>-0.817621</td>\n",
       "      <td>0.919115</td>\n",
       "      <td>0.289580</td>\n",
       "      <td>-0.542709</td>\n",
       "      <td>0.427526</td>\n",
       "      <td>2.490228</td>\n",
       "      <td>0.540605</td>\n",
       "      <td>1.316743</td>\n",
       "      <td>0.017342</td>\n",
       "      <td>-0.838461</td>\n",
       "      <td>-0.588805</td>\n",
       "    </tr>\n",
       "    <tr>\n",
       "      <th>76</th>\n",
       "      <td>0.464716</td>\n",
       "      <td>-1.794386</td>\n",
       "      <td>0.123134</td>\n",
       "      <td>-0.542709</td>\n",
       "      <td>-1.034232</td>\n",
       "      <td>-0.836286</td>\n",
       "      <td>0.540605</td>\n",
       "      <td>-0.809746</td>\n",
       "      <td>1.608504</td>\n",
       "      <td>-0.838461</td>\n",
       "      <td>1.079855</td>\n",
       "    </tr>\n",
       "    <tr>\n",
       "      <th>150</th>\n",
       "      <td>-1.031344</td>\n",
       "      <td>-0.708985</td>\n",
       "      <td>0.585484</td>\n",
       "      <td>-0.542709</td>\n",
       "      <td>1.454707</td>\n",
       "      <td>-0.836286</td>\n",
       "      <td>0.540605</td>\n",
       "      <td>0.253498</td>\n",
       "      <td>0.017342</td>\n",
       "      <td>-0.838461</td>\n",
       "      <td>1.079855</td>\n",
       "    </tr>\n",
       "    <tr>\n",
       "      <th>82</th>\n",
       "      <td>-0.283314</td>\n",
       "      <td>0.213605</td>\n",
       "      <td>1.288257</td>\n",
       "      <td>-0.542709</td>\n",
       "      <td>-0.362614</td>\n",
       "      <td>0.734567</td>\n",
       "      <td>0.540605</td>\n",
       "      <td>1.316743</td>\n",
       "      <td>0.017342</td>\n",
       "      <td>1.192662</td>\n",
       "      <td>-0.588805</td>\n",
       "    </tr>\n",
       "    <tr>\n",
       "      <th>108</th>\n",
       "      <td>0.571578</td>\n",
       "      <td>-0.491905</td>\n",
       "      <td>-0.366957</td>\n",
       "      <td>-0.542709</td>\n",
       "      <td>-0.757683</td>\n",
       "      <td>0.087745</td>\n",
       "      <td>0.540605</td>\n",
       "      <td>-0.809746</td>\n",
       "      <td>0.017342</td>\n",
       "      <td>1.192662</td>\n",
       "      <td>-0.588805</td>\n",
       "    </tr>\n",
       "  </tbody>\n",
       "</table>\n",
       "</div>"
      ],
      "text/plain": [
       "          Age  RestingBP  Cholesterol  FastingBS     MaxHR   Oldpeak  \\\n",
       "51  -2.099959   0.919115     0.132381  -0.542709  1.257172 -0.836286   \n",
       "165 -0.283314  -1.251686    -1.846478   1.842609 -1.745357 -0.836286   \n",
       "28  -1.031344  -0.166285     0.178616  -0.542709  2.047311 -0.836286   \n",
       "104  0.464716  -0.926066    -1.846478  -0.542709 -0.481135  0.087745   \n",
       "74  -0.069591  -0.166285    -0.163523  -0.542709  0.467033 -0.836286   \n",
       "137 -0.817621   0.919115     0.289580  -0.542709  0.427526  2.490228   \n",
       "76   0.464716  -1.794386     0.123134  -0.542709 -1.034232 -0.836286   \n",
       "150 -1.031344  -0.708985     0.585484  -0.542709  1.454707 -0.836286   \n",
       "82  -0.283314   0.213605     1.288257  -0.542709 -0.362614  0.734567   \n",
       "108  0.571578  -0.491905    -0.366957  -0.542709 -0.757683  0.087745   \n",
       "\n",
       "     Label Sex  Label ChestPainType  Label RestingECG  Label ExerciseAngina  \\\n",
       "51    0.540605             0.253498          1.608504             -0.838461   \n",
       "165   0.540605            -0.809746          0.017342             -0.838461   \n",
       "28    0.540605             0.253498         -1.573819             -0.838461   \n",
       "104   0.540605            -0.809746          0.017342             -0.838461   \n",
       "74    0.540605            -0.809746          0.017342             -0.838461   \n",
       "137   0.540605             1.316743          0.017342             -0.838461   \n",
       "76    0.540605            -0.809746          1.608504             -0.838461   \n",
       "150   0.540605             0.253498          0.017342             -0.838461   \n",
       "82    0.540605             1.316743          0.017342              1.192662   \n",
       "108   0.540605            -0.809746          0.017342              1.192662   \n",
       "\n",
       "     Label ST_Slope  \n",
       "51         1.079855  \n",
       "165       -0.588805  \n",
       "28         1.079855  \n",
       "104        1.079855  \n",
       "74         1.079855  \n",
       "137       -0.588805  \n",
       "76         1.079855  \n",
       "150        1.079855  \n",
       "82        -0.588805  \n",
       "108       -0.588805  "
      ]
     },
     "execution_count": 68,
     "metadata": {},
     "output_type": "execute_result"
    }
   ],
   "source": [
    "scaled_x_test_data.sample(10)"
   ]
  },
  {
   "cell_type": "markdown",
   "id": "caa1b086",
   "metadata": {},
   "source": [
    "Now applying logistic regression on our dataset"
   ]
  },
  {
   "cell_type": "markdown",
   "id": "e4be0cc4",
   "metadata": {},
   "source": [
    "# Logistic Regression"
   ]
  },
  {
   "cell_type": "markdown",
   "id": "bf7df921",
   "metadata": {},
   "source": [
    "We will import Logistic Regression model from sklearn.linear_model and will fit it on our training data"
   ]
  },
  {
   "cell_type": "code",
   "execution_count": 69,
   "id": "d9d0717a",
   "metadata": {},
   "outputs": [],
   "source": [
    "from sklearn.linear_model import LogisticRegression"
   ]
  },
  {
   "cell_type": "code",
   "execution_count": 70,
   "id": "4f841fe3",
   "metadata": {},
   "outputs": [],
   "source": [
    "LR_model = LogisticRegression()"
   ]
  },
  {
   "cell_type": "code",
   "execution_count": 71,
   "id": "5eae7692",
   "metadata": {},
   "outputs": [
    {
     "name": "stderr",
     "output_type": "stream",
     "text": [
      "C:\\Users\\SAAD COMMUNICATION\\anaconda3\\lib\\site-packages\\sklearn\\linear_model\\_logistic.py:763: ConvergenceWarning: lbfgs failed to converge (status=1):\n",
      "STOP: TOTAL NO. of ITERATIONS REACHED LIMIT.\n",
      "\n",
      "Increase the number of iterations (max_iter) or scale the data as shown in:\n",
      "    https://scikit-learn.org/stable/modules/preprocessing.html\n",
      "Please also refer to the documentation for alternative solver options:\n",
      "    https://scikit-learn.org/stable/modules/linear_model.html#logistic-regression\n",
      "  n_iter_i = _check_optimize_result(\n"
     ]
    },
    {
     "data": {
      "text/plain": [
       "LogisticRegression()"
      ]
     },
     "execution_count": 71,
     "metadata": {},
     "output_type": "execute_result"
    }
   ],
   "source": [
    "LR = LR_model.fit(x_train_data, y_train_data)\n",
    "LR"
   ]
  },
  {
   "cell_type": "code",
   "execution_count": 72,
   "id": "ad3b4228",
   "metadata": {},
   "outputs": [
    {
     "data": {
      "text/plain": [
       "LogisticRegression()"
      ]
     },
     "execution_count": 72,
     "metadata": {},
     "output_type": "execute_result"
    }
   ],
   "source": [
    "LR_scaled_data = LR_model.fit(scaled_x_train_data, y_train_data)\n",
    "LR_scaled_data"
   ]
  },
  {
   "cell_type": "code",
   "execution_count": 73,
   "id": "0e041b88",
   "metadata": {},
   "outputs": [
    {
     "data": {
      "text/plain": [
       "array([0, 0, 0, 0, 0, 0, 0, 0, 0, 0, 0, 0, 0, 0, 0, 0, 0, 0, 0, 0, 0, 0,\n",
       "       0, 0, 0, 0, 0, 0, 0, 0, 0, 0, 0, 0, 0, 0, 0, 0, 0, 0, 0, 0, 0, 0,\n",
       "       0, 0, 0, 0, 0, 0, 0, 0, 0, 0, 0, 0, 0, 0, 0, 0, 0, 0, 0, 0, 0, 0,\n",
       "       0, 0, 0, 0, 0, 0, 0, 0, 0, 0, 0, 0, 0, 0, 0, 0, 0, 0, 0, 0, 0, 0,\n",
       "       0, 0, 0, 0, 0, 0, 0, 0, 0, 0, 0, 0, 0, 0, 0, 0, 0, 0, 0, 0, 0, 0,\n",
       "       0, 0, 0, 0, 0, 0, 0, 0, 0, 0, 0, 0, 0, 0, 0, 0, 0, 0, 0, 0, 0, 0,\n",
       "       0, 0, 0, 0, 0, 0, 0, 0, 0, 0, 0, 0, 0, 0, 0, 0, 0, 0, 0, 0, 0, 0,\n",
       "       0, 0, 0, 0, 0, 0, 0, 0, 0, 0, 0, 0, 0, 0, 0, 0, 0, 0, 0, 0, 0, 0,\n",
       "       0, 0, 0, 0, 0, 0, 0, 0], dtype=int64)"
      ]
     },
     "execution_count": 73,
     "metadata": {},
     "output_type": "execute_result"
    }
   ],
   "source": [
    "LR_predictions  = LR.predict(x_test_data)\n",
    "LR_predictions"
   ]
  },
  {
   "cell_type": "code",
   "execution_count": 74,
   "id": "53c67ad2",
   "metadata": {},
   "outputs": [
    {
     "data": {
      "text/plain": [
       "array([0, 0, 1, 1, 0, 1, 1, 0, 0, 1, 0, 0, 1, 0, 1, 1, 0, 1, 1, 0, 1, 1,\n",
       "       0, 1, 1, 1, 0, 1, 0, 0, 1, 0, 1, 1, 1, 1, 1, 0, 1, 1, 1, 1, 1, 0,\n",
       "       0, 1, 0, 1, 1, 0, 0, 0, 1, 1, 1, 0, 0, 1, 0, 1, 0, 0, 0, 1, 0, 1,\n",
       "       1, 1, 1, 0, 0, 0, 1, 1, 0, 1, 0, 1, 0, 1, 0, 1, 1, 0, 1, 1, 0, 1,\n",
       "       0, 0, 0, 1, 1, 0, 1, 0, 1, 0, 1, 1, 0, 1, 0, 0, 1, 1, 0, 1, 1, 0,\n",
       "       1, 1, 0, 0, 1, 0, 1, 0, 1, 0, 1, 1, 0, 1, 0, 0, 0, 0, 0, 0, 0, 1,\n",
       "       1, 0, 1, 0, 1, 1, 0, 1, 0, 0, 1, 1, 1, 1, 0, 0, 0, 0, 0, 1, 1, 0,\n",
       "       1, 0, 0, 0, 0, 1, 0, 0, 1, 0, 1, 1, 1, 1, 0, 0, 1, 1, 0, 1, 0, 1,\n",
       "       1, 1, 0, 0, 1, 1, 0, 1], dtype=int64)"
      ]
     },
     "execution_count": 74,
     "metadata": {},
     "output_type": "execute_result"
    }
   ],
   "source": [
    "LR_scaled_data_predictions = LR_scaled_data.predict(scaled_x_test_data)\n",
    "LR_scaled_data_predictions"
   ]
  },
  {
   "cell_type": "code",
   "execution_count": 75,
   "id": "55598ebe",
   "metadata": {},
   "outputs": [],
   "source": [
    "def sigmoid(x):\n",
    "  return 1 / (1 + np.exp(-x))"
   ]
  },
  {
   "cell_type": "code",
   "execution_count": 76,
   "id": "ee2903f0",
   "metadata": {},
   "outputs": [],
   "source": [
    "def prediction_function(age):\n",
    "    z=  0.1596  *age - 6.8299\n",
    "    y = sigmoid(z)\n",
    "    return y"
   ]
  },
  {
   "cell_type": "code",
   "execution_count": 77,
   "id": "c889a3f3",
   "metadata": {},
   "outputs": [
    {
     "name": "stdout",
     "output_type": "stream",
     "text": [
      "LR_B0 :  [0.38531992]\n",
      "LR_B1 :  [[ 0.13940167  0.06455664 -0.49245177  0.40352478 -0.20065071  0.48344787\n",
      "   0.49672226 -0.56600312 -0.1737623   0.62624317 -1.00912276]]\n"
     ]
    }
   ],
   "source": [
    "print(\"LR_B0 : \" , LR.intercept_)\n",
    "print(\"LR_B1 : \" , LR.coef_)"
   ]
  },
  {
   "cell_type": "code",
   "execution_count": 78,
   "id": "ca35b35e",
   "metadata": {},
   "outputs": [
    {
     "data": {
      "text/plain": [
       "0.8567432736620471"
      ]
     },
     "execution_count": 78,
     "metadata": {},
     "output_type": "execute_result"
    }
   ],
   "source": [
    "age = 54\n",
    "prediction_function(age)"
   ]
  },
  {
   "cell_type": "code",
   "execution_count": 79,
   "id": "6e7de318",
   "metadata": {},
   "outputs": [
    {
     "name": "stdout",
     "output_type": "stream",
     "text": [
      "LR_scaled_data_B0 :  [0.38531992]\n",
      "LR_scaled_data_B1 :  [[ 0.13940167  0.06455664 -0.49245177  0.40352478 -0.20065071  0.48344787\n",
      "   0.49672226 -0.56600312 -0.1737623   0.62624317 -1.00912276]]\n"
     ]
    }
   ],
   "source": [
    "print(\"LR_scaled_data_B0 : \" , LR_scaled_data.intercept_)\n",
    "print(\"LR_scaled_data_B1 : \" , LR_scaled_data.coef_)"
   ]
  },
  {
   "cell_type": "code",
   "execution_count": 80,
   "id": "5972e487",
   "metadata": {},
   "outputs": [
    {
     "data": {
      "text/plain": [
       "0.8567432736620471"
      ]
     },
     "execution_count": 80,
     "metadata": {},
     "output_type": "execute_result"
    }
   ],
   "source": [
    "age = 54\n",
    "prediction_function(age)"
   ]
  },
  {
   "cell_type": "markdown",
   "id": "78df43b3",
   "metadata": {},
   "source": [
    "Importing classification_report, confusion_matrix and accuracy_score from sklearn.metrics to measure the performance of our model"
   ]
  },
  {
   "cell_type": "code",
   "execution_count": 81,
   "id": "532a0e1d",
   "metadata": {},
   "outputs": [],
   "source": [
    "from sklearn.metrics import classification_report\n",
    "from sklearn.metrics import confusion_matrix\n",
    "from sklearn.metrics import accuracy_score"
   ]
  },
  {
   "cell_type": "code",
   "execution_count": 82,
   "id": "7ca79177",
   "metadata": {},
   "outputs": [
    {
     "name": "stdout",
     "output_type": "stream",
     "text": [
      "[[ 77   0]\n",
      " [107   0]]\n"
     ]
    }
   ],
   "source": [
    "print(confusion_matrix(y_test_data, LR_predictions))"
   ]
  },
  {
   "cell_type": "code",
   "execution_count": 83,
   "id": "8b9f5554",
   "metadata": {},
   "outputs": [
    {
     "name": "stdout",
     "output_type": "stream",
     "text": [
      "[[68  9]\n",
      " [19 88]]\n"
     ]
    }
   ],
   "source": [
    "print(confusion_matrix(y_test_data, LR_scaled_data_predictions))"
   ]
  },
  {
   "cell_type": "code",
   "execution_count": 84,
   "id": "04ed10b3",
   "metadata": {},
   "outputs": [
    {
     "data": {
      "text/plain": [
       "Text(69.0, 0.5, 'Truth')"
      ]
     },
     "execution_count": 84,
     "metadata": {},
     "output_type": "execute_result"
    },
    {
     "data": {
      "image/png": "[encoded data removed]",
      "text/plain": [
       "<Figure size 720x504 with 2 Axes>"
      ]
     },
     "metadata": {
      "needs_background": "light"
     },
     "output_type": "display_data"
    }
   ],
   "source": [
    "LR_cm = confusion_matrix(y_test_data, LR_predictions)\n",
    "plt.figure(figsize=(10,7))\n",
    "sns.heatmap(LR_cm, annot=True)\n",
    "plt.xlabel('Predicted')\n",
    "plt.ylabel('Truth')"
   ]
  },
  {
   "cell_type": "code",
   "execution_count": 85,
   "id": "9ad330bf",
   "metadata": {},
   "outputs": [
    {
     "data": {
      "text/plain": [
       "Text(69.0, 0.5, 'Truth')"
      ]
     },
     "execution_count": 85,
     "metadata": {},
     "output_type": "execute_result"
    },
    {
     "data": {
      "image/png": "[encoded data removed]",
      "text/plain": [
       "<Figure size 720x504 with 2 Axes>"
      ]
     },
     "metadata": {
      "needs_background": "light"
     },
     "output_type": "display_data"
    }
   ],
   "source": [
    "LR_scaled_data_cm = confusion_matrix(y_test_data, LR_scaled_data_predictions)\n",
    "plt.figure(figsize=(10,7))\n",
    "sns.heatmap(LR_scaled_data_cm, annot=True)\n",
    "plt.xlabel('Predicted')\n",
    "plt.ylabel('Truth')"
   ]
  },
  {
   "cell_type": "code",
   "execution_count": 86,
   "id": "38d11937",
   "metadata": {},
   "outputs": [
    {
     "name": "stdout",
     "output_type": "stream",
     "text": [
      "Accuracy of unscaled data: 0.41847826086956524\n"
     ]
    }
   ],
   "source": [
    "print(\"Accuracy of unscaled data:\", accuracy_score(y_test_data, LR_predictions))"
   ]
  },
  {
   "cell_type": "code",
   "execution_count": 87,
   "id": "dcfd73ac",
   "metadata": {},
   "outputs": [
    {
     "name": "stdout",
     "output_type": "stream",
     "text": [
      "Accuracy of scaled data: 0.8478260869565217\n"
     ]
    }
   ],
   "source": [
    "print(\"Accuracy of scaled data:\", accuracy_score(y_test_data, LR_scaled_data_predictions))"
   ]
  },
  {
   "cell_type": "markdown",
   "id": "9b568273",
   "metadata": {},
   "source": [
    "Now applying K Nearest Neighbour on our dataset"
   ]
  },
  {
   "cell_type": "markdown",
   "id": "46aef381",
   "metadata": {},
   "source": [
    "# K Nearest Neighbour"
   ]
  },
  {
   "cell_type": "code",
   "execution_count": 88,
   "id": "b90e46ad",
   "metadata": {},
   "outputs": [],
   "source": [
    "from sklearn.neighbors import KNeighborsClassifier"
   ]
  },
  {
   "cell_type": "code",
   "execution_count": 89,
   "id": "422b4b85",
   "metadata": {},
   "outputs": [],
   "source": [
    "KNN_model = KNeighborsClassifier(n_neighbors = 5)"
   ]
  },
  {
   "cell_type": "markdown",
   "id": "9cd9a020",
   "metadata": {},
   "source": [
    "Due to n_neighbors=5 K Nearest Neighbour model will compare given data with the data of 5 nearest neighbours"
   ]
  },
  {
   "cell_type": "code",
   "execution_count": 90,
   "id": "38f25a6a",
   "metadata": {},
   "outputs": [],
   "source": [
    "KNN_Classifier = KNN_model.fit(x_train_data, y_train_data)"
   ]
  },
  {
   "cell_type": "code",
   "execution_count": 91,
   "id": "c64fb1ba",
   "metadata": {},
   "outputs": [
    {
     "data": {
      "text/plain": [
       "KNeighborsClassifier()"
      ]
     },
     "execution_count": 91,
     "metadata": {},
     "output_type": "execute_result"
    }
   ],
   "source": [
    "KNN_Classifier"
   ]
  },
  {
   "cell_type": "code",
   "execution_count": 92,
   "id": "045f2013",
   "metadata": {},
   "outputs": [],
   "source": [
    "KNN_Classifier_scaled_data = KNN_model.fit(scaled_x_train_data, y_train_data)"
   ]
  },
  {
   "cell_type": "code",
   "execution_count": 93,
   "id": "2ee6aa62",
   "metadata": {},
   "outputs": [
    {
     "data": {
      "text/plain": [
       "KNeighborsClassifier()"
      ]
     },
     "execution_count": 93,
     "metadata": {},
     "output_type": "execute_result"
    }
   ],
   "source": [
    "KNN_Classifier_scaled_data"
   ]
  },
  {
   "cell_type": "code",
   "execution_count": 94,
   "id": "8873dee2",
   "metadata": {},
   "outputs": [],
   "source": [
    "KNN_predictions = KNN_Classifier.predict(x_test_data)"
   ]
  },
  {
   "cell_type": "code",
   "execution_count": 95,
   "id": "f7c4aef0",
   "metadata": {},
   "outputs": [
    {
     "data": {
      "text/plain": [
       "array([0, 1, 1, 1, 0, 0, 1, 1, 0, 1, 0, 1, 0, 0, 1, 1, 0, 0, 0, 1, 1, 0,\n",
       "       0, 0, 1, 0, 0, 1, 0, 0, 0, 0, 1, 0, 1, 0, 0, 0, 0, 0, 1, 0, 1, 0,\n",
       "       1, 0, 1, 0, 1, 1, 0, 0, 1, 1, 0, 1, 1, 1, 0, 0, 1, 0, 0, 1, 0, 1,\n",
       "       1, 0, 1, 0, 0, 0, 1, 1, 0, 0, 0, 0, 0, 1, 0, 1, 1, 0, 0, 1, 0, 1,\n",
       "       0, 1, 1, 1, 1, 0, 0, 0, 1, 1, 0, 1, 0, 1, 1, 0, 1, 1, 0, 1, 0, 1,\n",
       "       0, 1, 0, 0, 0, 0, 1, 1, 0, 0, 1, 1, 1, 0, 0, 0, 1, 0, 0, 0, 1, 1,\n",
       "       0, 1, 1, 0, 0, 0, 0, 1, 1, 1, 1, 0, 1, 1, 0, 0, 1, 0, 0, 1, 1, 0,\n",
       "       0, 0, 0, 0, 0, 0, 1, 0, 1, 0, 1, 1, 1, 1, 1, 0, 1, 1, 0, 1, 0, 0,\n",
       "       1, 0, 1, 0, 0, 1, 0, 1], dtype=int64)"
      ]
     },
     "execution_count": 95,
     "metadata": {},
     "output_type": "execute_result"
    }
   ],
   "source": [
    "KNN_predictions"
   ]
  },
  {
   "cell_type": "code",
   "execution_count": 96,
   "id": "04cb78ce",
   "metadata": {},
   "outputs": [],
   "source": [
    "KNN_scaled_data_predictions = KNN_Classifier_scaled_data.predict(scaled_x_test_data)"
   ]
  },
  {
   "cell_type": "code",
   "execution_count": 97,
   "id": "b23d1887",
   "metadata": {},
   "outputs": [
    {
     "data": {
      "text/plain": [
       "array([0, 1, 1, 1, 0, 0, 1, 0, 0, 1, 1, 0, 0, 0, 1, 1, 0, 1, 1, 0, 0, 1,\n",
       "       0, 0, 1, 1, 0, 1, 0, 0, 0, 0, 0, 1, 1, 1, 1, 0, 1, 1, 1, 1, 1, 0,\n",
       "       0, 1, 0, 1, 1, 0, 0, 0, 1, 1, 1, 0, 0, 0, 1, 1, 0, 0, 0, 1, 0, 1,\n",
       "       1, 1, 1, 1, 0, 0, 1, 1, 0, 1, 0, 1, 0, 1, 0, 1, 1, 0, 1, 0, 0, 1,\n",
       "       0, 0, 0, 1, 1, 0, 1, 0, 1, 0, 1, 1, 0, 1, 1, 0, 0, 1, 0, 1, 1, 0,\n",
       "       0, 1, 0, 1, 1, 0, 1, 0, 1, 0, 1, 1, 1, 1, 0, 0, 0, 0, 0, 0, 1, 1,\n",
       "       1, 0, 1, 0, 1, 1, 0, 1, 0, 0, 1, 1, 1, 1, 1, 0, 0, 0, 0, 1, 1, 0,\n",
       "       1, 0, 0, 0, 0, 1, 0, 0, 1, 0, 1, 1, 1, 1, 0, 1, 1, 1, 0, 1, 0, 1,\n",
       "       1, 1, 0, 0, 1, 1, 0, 1], dtype=int64)"
      ]
     },
     "execution_count": 97,
     "metadata": {},
     "output_type": "execute_result"
    }
   ],
   "source": [
    "KNN_scaled_data_predictions"
   ]
  },
  {
   "cell_type": "code",
   "execution_count": 98,
   "id": "1a71e45b",
   "metadata": {},
   "outputs": [
    {
     "name": "stdout",
     "output_type": "stream",
     "text": [
      "              precision    recall  f1-score   support\n",
      "\n",
      "           0       0.55      0.70      0.61        77\n",
      "           1       0.73      0.58      0.65       107\n",
      "\n",
      "    accuracy                           0.63       184\n",
      "   macro avg       0.64      0.64      0.63       184\n",
      "weighted avg       0.65      0.63      0.63       184\n",
      "\n"
     ]
    }
   ],
   "source": [
    "print(classification_report(y_test_data, KNN_predictions))"
   ]
  },
  {
   "cell_type": "code",
   "execution_count": 99,
   "id": "bb36c122",
   "metadata": {},
   "outputs": [
    {
     "name": "stdout",
     "output_type": "stream",
     "text": [
      "              precision    recall  f1-score   support\n",
      "\n",
      "           0       0.78      0.88      0.83        77\n",
      "           1       0.91      0.82      0.86       107\n",
      "\n",
      "    accuracy                           0.85       184\n",
      "   macro avg       0.84      0.85      0.85       184\n",
      "weighted avg       0.85      0.85      0.85       184\n",
      "\n"
     ]
    }
   ],
   "source": [
    "print(classification_report(y_test_data, KNN_scaled_data_predictions))"
   ]
  },
  {
   "cell_type": "code",
   "execution_count": 100,
   "id": "e6145f28",
   "metadata": {},
   "outputs": [
    {
     "name": "stdout",
     "output_type": "stream",
     "text": [
      "[[54 23]\n",
      " [45 62]]\n"
     ]
    }
   ],
   "source": [
    "print(confusion_matrix(y_test_data, KNN_predictions))"
   ]
  },
  {
   "cell_type": "code",
   "execution_count": 101,
   "id": "41e2d330",
   "metadata": {},
   "outputs": [
    {
     "name": "stdout",
     "output_type": "stream",
     "text": [
      "[[68  9]\n",
      " [19 88]]\n"
     ]
    }
   ],
   "source": [
    "print(confusion_matrix(y_test_data, KNN_scaled_data_predictions))"
   ]
  },
  {
   "cell_type": "code",
   "execution_count": 102,
   "id": "2155f87f",
   "metadata": {},
   "outputs": [
    {
     "data": {
      "text/plain": [
       "Text(69.0, 0.5, 'Truth')"
      ]
     },
     "execution_count": 102,
     "metadata": {},
     "output_type": "execute_result"
    },
    {
     "data": {
      "image/png": "[encoded data removed]",
      "text/plain": [
       "<Figure size 720x504 with 2 Axes>"
      ]
     },
     "metadata": {
      "needs_background": "light"
     },
     "output_type": "display_data"
    }
   ],
   "source": [
    "KNN_cm = confusion_matrix(y_test_data, KNN_predictions)\n",
    "plt.figure(figsize=(10,7))\n",
    "sns.heatmap(KNN_cm, annot=True)\n",
    "plt.xlabel('Predicted')\n",
    "plt.ylabel('Truth')"
   ]
  },
  {
   "cell_type": "code",
   "execution_count": 103,
   "id": "6b1ab480",
   "metadata": {},
   "outputs": [
    {
     "data": {
      "text/plain": [
       "Text(69.0, 0.5, 'Truth')"
      ]
     },
     "execution_count": 103,
     "metadata": {},
     "output_type": "execute_result"
    },
    {
     "data": {
      "image/png": "[encoded data removed]",
      "text/plain": [
       "<Figure size 720x504 with 2 Axes>"
      ]
     },
     "metadata": {
      "needs_background": "light"
     },
     "output_type": "display_data"
    }
   ],
   "source": [
    "KNN_scaled_data_cm = confusion_matrix(y_test_data, KNN_scaled_data_predictions)\n",
    "plt.figure(figsize=(10,7))\n",
    "sns.heatmap(KNN_scaled_data_cm, annot=True)\n",
    "plt.xlabel('Predicted')\n",
    "plt.ylabel('Truth')"
   ]
  },
  {
   "cell_type": "code",
   "execution_count": 104,
   "id": "cfd70046",
   "metadata": {},
   "outputs": [
    {
     "name": "stdout",
     "output_type": "stream",
     "text": [
      "Accuracy of unscaled data: 0.6304347826086957\n"
     ]
    }
   ],
   "source": [
    "print(\"Accuracy of unscaled data:\", accuracy_score(y_test_data, KNN_predictions))"
   ]
  },
  {
   "cell_type": "code",
   "execution_count": 105,
   "id": "08150c90",
   "metadata": {},
   "outputs": [
    {
     "name": "stdout",
     "output_type": "stream",
     "text": [
      "Accuracy of scaled data: 0.8478260869565217\n"
     ]
    }
   ],
   "source": [
    "print(\"Accuracy of scaled data:\", accuracy_score(y_test_data, KNN_scaled_data_predictions))"
   ]
  },
  {
   "cell_type": "markdown",
   "id": "e1efbb8b",
   "metadata": {},
   "source": [
    "Now applying Random Forest on our dataset"
   ]
  },
  {
   "cell_type": "markdown",
   "id": "8cfb7818",
   "metadata": {},
   "source": [
    "# Random Forest"
   ]
  },
  {
   "cell_type": "code",
   "execution_count": 106,
   "id": "85e53fdb",
   "metadata": {},
   "outputs": [],
   "source": [
    "from sklearn.ensemble import RandomForestClassifier"
   ]
  },
  {
   "cell_type": "code",
   "execution_count": 107,
   "id": "f2c457bc",
   "metadata": {},
   "outputs": [],
   "source": [
    "RF_model = RandomForestClassifier(n_estimators = 100)"
   ]
  },
  {
   "cell_type": "code",
   "execution_count": 108,
   "id": "487fa46c",
   "metadata": {},
   "outputs": [],
   "source": [
    "RF_Classifier = RF_model.fit(x_train_data, y_train_data)"
   ]
  },
  {
   "cell_type": "code",
   "execution_count": 109,
   "id": "a2770ae0",
   "metadata": {},
   "outputs": [
    {
     "data": {
      "text/plain": [
       "RandomForestClassifier()"
      ]
     },
     "execution_count": 109,
     "metadata": {},
     "output_type": "execute_result"
    }
   ],
   "source": [
    "RF_Classifier"
   ]
  },
  {
   "cell_type": "code",
   "execution_count": 110,
   "id": "2e2bede3",
   "metadata": {},
   "outputs": [],
   "source": [
    "RF_Classifier_scaled_data = RF_model.fit(scaled_x_train_data, y_train_data)"
   ]
  },
  {
   "cell_type": "code",
   "execution_count": 111,
   "id": "a94f37b3",
   "metadata": {},
   "outputs": [
    {
     "data": {
      "text/plain": [
       "RandomForestClassifier()"
      ]
     },
     "execution_count": 111,
     "metadata": {},
     "output_type": "execute_result"
    }
   ],
   "source": [
    "RF_Classifier_scaled_data"
   ]
  },
  {
   "cell_type": "code",
   "execution_count": 112,
   "id": "a2e78904",
   "metadata": {},
   "outputs": [],
   "source": [
    "RF_predictions = RF_Classifier.predict(x_test_data)"
   ]
  },
  {
   "cell_type": "code",
   "execution_count": 113,
   "id": "9e8835b7",
   "metadata": {},
   "outputs": [
    {
     "data": {
      "text/plain": [
       "array([0, 0, 0, 0, 0, 0, 0, 0, 1, 1, 1, 0, 1, 0, 0, 1, 0, 1, 0, 1, 0, 0,\n",
       "       0, 0, 1, 0, 0, 1, 0, 0, 0, 0, 1, 1, 1, 1, 1, 0, 0, 0, 0, 0, 1, 0,\n",
       "       0, 1, 0, 1, 0, 0, 0, 0, 0, 1, 0, 0, 0, 0, 0, 1, 0, 0, 0, 0, 0, 0,\n",
       "       1, 0, 1, 0, 0, 0, 1, 0, 0, 1, 0, 0, 0, 0, 0, 1, 0, 0, 1, 1, 0, 1,\n",
       "       0, 0, 0, 0, 0, 0, 0, 0, 1, 0, 1, 1, 1, 1, 0, 0, 0, 0, 0, 0, 0, 0,\n",
       "       0, 0, 1, 0, 0, 0, 1, 0, 1, 0, 1, 0, 0, 0, 0, 0, 0, 0, 0, 0, 0, 1,\n",
       "       0, 0, 0, 0, 0, 1, 0, 1, 0, 0, 0, 1, 0, 1, 0, 0, 0, 0, 0, 0, 0, 0,\n",
       "       1, 0, 0, 0, 0, 1, 0, 0, 0, 0, 0, 0, 0, 1, 0, 0, 0, 1, 0, 0, 0, 1,\n",
       "       0, 0, 0, 0, 1, 1, 0, 0], dtype=int64)"
      ]
     },
     "execution_count": 113,
     "metadata": {},
     "output_type": "execute_result"
    }
   ],
   "source": [
    "RF_predictions"
   ]
  },
  {
   "cell_type": "code",
   "execution_count": 114,
   "id": "5b12b615",
   "metadata": {},
   "outputs": [],
   "source": [
    "RF_scaled_data_predictions = RF_Classifier_scaled_data.predict(scaled_x_test_data)"
   ]
  },
  {
   "cell_type": "code",
   "execution_count": 115,
   "id": "3a5cee40",
   "metadata": {},
   "outputs": [
    {
     "data": {
      "text/plain": [
       "array([0, 1, 1, 1, 0, 1, 1, 0, 0, 1, 1, 0, 1, 0, 1, 1, 0, 1, 1, 0, 1, 1,\n",
       "       0, 1, 1, 1, 0, 1, 0, 0, 1, 0, 1, 1, 1, 0, 1, 0, 1, 1, 1, 1, 1, 0,\n",
       "       0, 1, 1, 1, 1, 0, 0, 0, 1, 1, 0, 0, 0, 1, 1, 1, 0, 0, 0, 1, 0, 1,\n",
       "       1, 1, 1, 0, 0, 0, 1, 1, 0, 1, 0, 1, 0, 1, 1, 1, 1, 0, 1, 1, 0, 1,\n",
       "       0, 0, 0, 1, 1, 0, 1, 0, 1, 0, 1, 1, 0, 1, 1, 0, 1, 1, 0, 0, 1, 0,\n",
       "       1, 1, 0, 0, 1, 0, 1, 0, 1, 1, 1, 1, 1, 1, 0, 0, 0, 0, 0, 0, 0, 1,\n",
       "       1, 0, 1, 0, 1, 1, 0, 1, 0, 0, 1, 1, 1, 1, 1, 0, 0, 0, 0, 1, 1, 0,\n",
       "       1, 0, 0, 0, 0, 1, 0, 0, 1, 0, 1, 1, 1, 1, 0, 0, 1, 1, 0, 1, 0, 1,\n",
       "       0, 1, 0, 1, 1, 1, 0, 1], dtype=int64)"
      ]
     },
     "execution_count": 115,
     "metadata": {},
     "output_type": "execute_result"
    }
   ],
   "source": [
    "RF_scaled_data_predictions"
   ]
  },
  {
   "cell_type": "code",
   "execution_count": 116,
   "id": "72fbbed7",
   "metadata": {},
   "outputs": [
    {
     "name": "stdout",
     "output_type": "stream",
     "text": [
      "              precision    recall  f1-score   support\n",
      "\n",
      "           0       0.50      0.88      0.64        77\n",
      "           1       0.81      0.36      0.50       107\n",
      "\n",
      "    accuracy                           0.58       184\n",
      "   macro avg       0.66      0.62      0.57       184\n",
      "weighted avg       0.68      0.58      0.56       184\n",
      "\n"
     ]
    }
   ],
   "source": [
    "print(classification_report(y_test_data, RF_predictions))"
   ]
  },
  {
   "cell_type": "code",
   "execution_count": 117,
   "id": "f4d1cb14",
   "metadata": {},
   "outputs": [
    {
     "name": "stdout",
     "output_type": "stream",
     "text": [
      "              precision    recall  f1-score   support\n",
      "\n",
      "           0       0.83      0.87      0.85        77\n",
      "           1       0.90      0.87      0.89       107\n",
      "\n",
      "    accuracy                           0.87       184\n",
      "   macro avg       0.87      0.87      0.87       184\n",
      "weighted avg       0.87      0.87      0.87       184\n",
      "\n"
     ]
    }
   ],
   "source": [
    "print(classification_report(y_test_data, RF_scaled_data_predictions))"
   ]
  },
  {
   "cell_type": "code",
   "execution_count": 118,
   "id": "c878a5fc",
   "metadata": {},
   "outputs": [
    {
     "name": "stdout",
     "output_type": "stream",
     "text": [
      "[[68  9]\n",
      " [68 39]]\n"
     ]
    }
   ],
   "source": [
    "print(confusion_matrix(y_test_data, RF_predictions))"
   ]
  },
  {
   "cell_type": "code",
   "execution_count": 119,
   "id": "ec6ad06f",
   "metadata": {},
   "outputs": [
    {
     "name": "stdout",
     "output_type": "stream",
     "text": [
      "[[67 10]\n",
      " [14 93]]\n"
     ]
    }
   ],
   "source": [
    "print(confusion_matrix(y_test_data, RF_scaled_data_predictions))"
   ]
  },
  {
   "cell_type": "code",
   "execution_count": 120,
   "id": "9b7ee7e6",
   "metadata": {},
   "outputs": [
    {
     "data": {
      "text/plain": [
       "Text(69.0, 0.5, 'Truth')"
      ]
     },
     "execution_count": 120,
     "metadata": {},
     "output_type": "execute_result"
    },
    {
     "data": {
      "image/png": "[encoded data removed]",
      "text/plain": [
       "<Figure size 720x504 with 2 Axes>"
      ]
     },
     "metadata": {
      "needs_background": "light"
     },
     "output_type": "display_data"
    }
   ],
   "source": [
    "RF_cm = confusion_matrix(y_test_data, RF_predictions)\n",
    "plt.figure(figsize=(10,7))\n",
    "sns.heatmap(RF_cm, annot=True)\n",
    "plt.xlabel('Predicted')\n",
    "plt.ylabel('Truth')"
   ]
  },
  {
   "cell_type": "code",
   "execution_count": 121,
   "id": "c548bf2f",
   "metadata": {},
   "outputs": [
    {
     "data": {
      "text/plain": [
       "Text(69.0, 0.5, 'Truth')"
      ]
     },
     "execution_count": 121,
     "metadata": {},
     "output_type": "execute_result"
    },
    {
     "data": {
      "image/png": "[encoded data removed]",
      "text/plain": [
       "<Figure size 720x504 with 2 Axes>"
      ]
     },
     "metadata": {
      "needs_background": "light"
     },
     "output_type": "display_data"
    }
   ],
   "source": [
    "RF_scaled_data_cm = confusion_matrix(y_test_data, RF_scaled_data_predictions)\n",
    "plt.figure(figsize=(10,7))\n",
    "sns.heatmap(RF_scaled_data_cm, annot=True)\n",
    "plt.xlabel('Predicted')\n",
    "plt.ylabel('Truth')"
   ]
  },
  {
   "cell_type": "code",
   "execution_count": 122,
   "id": "0df69724",
   "metadata": {},
   "outputs": [
    {
     "name": "stdout",
     "output_type": "stream",
     "text": [
      "Accuracy of unscaled data: 0.5815217391304348\n"
     ]
    }
   ],
   "source": [
    "print(\"Accuracy of unscaled data:\", accuracy_score(y_test_data, RF_predictions))"
   ]
  },
  {
   "cell_type": "code",
   "execution_count": 123,
   "id": "cf7c8188",
   "metadata": {},
   "outputs": [
    {
     "name": "stdout",
     "output_type": "stream",
     "text": [
      "Accuracy of scaled data: 0.8695652173913043\n"
     ]
    }
   ],
   "source": [
    "print(\"Accuracy of scaled data:\", accuracy_score(y_test_data, RF_scaled_data_predictions))"
   ]
  },
  {
   "cell_type": "markdown",
   "id": "84b34403",
   "metadata": {},
   "source": [
    "Now applying Neural Network on our dataset"
   ]
  },
  {
   "cell_type": "markdown",
   "id": "6713d7e7",
   "metadata": {},
   "source": [
    "# Neural Network"
   ]
  },
  {
   "cell_type": "code",
   "execution_count": 124,
   "id": "246cbb38",
   "metadata": {},
   "outputs": [],
   "source": [
    "from sklearn.neural_network import MLPClassifier"
   ]
  },
  {
   "cell_type": "code",
   "execution_count": 125,
   "id": "dc3cb557",
   "metadata": {},
   "outputs": [],
   "source": [
    "NN_model = MLPClassifier(hidden_layer_sizes=(8,8,8), activation='relu', solver='adam', max_iter=500)"
   ]
  },
  {
   "cell_type": "code",
   "execution_count": 126,
   "id": "c0e92097",
   "metadata": {},
   "outputs": [],
   "source": [
    "NN_Classifier = NN_model.fit(x_train_data, y_train_data)"
   ]
  },
  {
   "cell_type": "code",
   "execution_count": 127,
   "id": "e7802abd",
   "metadata": {},
   "outputs": [
    {
     "data": {
      "text/plain": [
       "MLPClassifier(hidden_layer_sizes=(8, 8, 8), max_iter=500)"
      ]
     },
     "execution_count": 127,
     "metadata": {},
     "output_type": "execute_result"
    }
   ],
   "source": [
    "NN_Classifier"
   ]
  },
  {
   "cell_type": "code",
   "execution_count": 128,
   "id": "6c1a6f47",
   "metadata": {},
   "outputs": [
    {
     "name": "stderr",
     "output_type": "stream",
     "text": [
      "C:\\Users\\SAAD COMMUNICATION\\anaconda3\\lib\\site-packages\\sklearn\\neural_network\\_multilayer_perceptron.py:614: ConvergenceWarning: Stochastic Optimizer: Maximum iterations (500) reached and the optimization hasn't converged yet.\n",
      "  warnings.warn(\n"
     ]
    }
   ],
   "source": [
    "NN_Classifier_scaled_data = NN_model.fit(scaled_x_train_data, y_train_data)"
   ]
  },
  {
   "cell_type": "code",
   "execution_count": 129,
   "id": "05836f80",
   "metadata": {},
   "outputs": [
    {
     "data": {
      "text/plain": [
       "MLPClassifier(hidden_layer_sizes=(8, 8, 8), max_iter=500)"
      ]
     },
     "execution_count": 129,
     "metadata": {},
     "output_type": "execute_result"
    }
   ],
   "source": [
    "NN_Classifier_scaled_data"
   ]
  },
  {
   "cell_type": "code",
   "execution_count": 130,
   "id": "a5eb1fbe",
   "metadata": {},
   "outputs": [],
   "source": [
    "NN_predictions = NN_Classifier.predict(x_test_data)"
   ]
  },
  {
   "cell_type": "code",
   "execution_count": 131,
   "id": "3c0775f3",
   "metadata": {},
   "outputs": [
    {
     "data": {
      "text/plain": [
       "array([0, 1, 1, 1, 0, 0, 1, 0, 0, 1, 0, 0, 0, 0, 0, 1, 0, 1, 0, 1, 1, 0,\n",
       "       0, 0, 1, 0, 0, 1, 0, 0, 0, 0, 0, 0, 0, 0, 0, 0, 0, 0, 1, 0, 0, 0,\n",
       "       0, 0, 1, 0, 1, 0, 0, 0, 0, 0, 0, 0, 0, 0, 0, 0, 0, 0, 0, 0, 0, 1,\n",
       "       0, 0, 0, 0, 0, 0, 1, 1, 0, 0, 0, 0, 0, 0, 0, 1, 0, 0, 0, 0, 0, 0,\n",
       "       0, 1, 1, 1, 0, 0, 0, 0, 1, 1, 0, 1, 0, 0, 1, 0, 1, 0, 0, 1, 0, 1,\n",
       "       0, 0, 0, 0, 0, 0, 1, 0, 0, 0, 0, 1, 1, 0, 0, 0, 1, 0, 0, 0, 0, 0,\n",
       "       0, 0, 1, 0, 0, 0, 0, 1, 0, 0, 1, 0, 1, 1, 0, 0, 0, 0, 0, 0, 0, 0,\n",
       "       0, 0, 0, 0, 0, 0, 0, 0, 1, 0, 0, 1, 1, 0, 0, 0, 0, 0, 0, 0, 0, 0,\n",
       "       1, 0, 0, 0, 0, 0, 0, 1], dtype=int64)"
      ]
     },
     "execution_count": 131,
     "metadata": {},
     "output_type": "execute_result"
    }
   ],
   "source": [
    "NN_predictions"
   ]
  },
  {
   "cell_type": "code",
   "execution_count": 132,
   "id": "18852cb0",
   "metadata": {},
   "outputs": [],
   "source": [
    "NN_scaled_data_predictions = NN_Classifier_scaled_data.predict(scaled_x_test_data)"
   ]
  },
  {
   "cell_type": "code",
   "execution_count": 133,
   "id": "b3ab2e24",
   "metadata": {},
   "outputs": [
    {
     "data": {
      "text/plain": [
       "array([0, 0, 1, 1, 0, 1, 1, 0, 0, 1, 0, 0, 1, 0, 1, 1, 0, 1, 1, 0, 1, 1,\n",
       "       0, 1, 1, 1, 0, 1, 0, 0, 1, 0, 0, 1, 1, 1, 1, 0, 1, 0, 1, 1, 1, 0,\n",
       "       0, 1, 1, 1, 1, 1, 0, 0, 1, 1, 0, 1, 0, 1, 1, 1, 0, 0, 0, 1, 0, 1,\n",
       "       1, 1, 1, 0, 0, 0, 1, 1, 0, 1, 0, 1, 0, 1, 0, 1, 1, 0, 1, 1, 0, 1,\n",
       "       0, 1, 0, 1, 1, 0, 1, 0, 1, 0, 1, 1, 0, 1, 1, 0, 0, 1, 0, 1, 1, 0,\n",
       "       1, 1, 1, 0, 1, 0, 1, 0, 1, 0, 1, 1, 0, 1, 0, 0, 0, 1, 0, 0, 0, 1,\n",
       "       1, 0, 1, 0, 0, 1, 0, 1, 0, 0, 1, 1, 1, 1, 1, 0, 0, 0, 0, 1, 1, 0,\n",
       "       0, 0, 0, 0, 0, 1, 0, 0, 1, 0, 1, 1, 1, 1, 0, 0, 1, 1, 0, 1, 0, 1,\n",
       "       1, 1, 0, 0, 0, 1, 0, 1], dtype=int64)"
      ]
     },
     "execution_count": 133,
     "metadata": {},
     "output_type": "execute_result"
    }
   ],
   "source": [
    "NN_scaled_data_predictions"
   ]
  },
  {
   "cell_type": "code",
   "execution_count": 134,
   "id": "426d66ef",
   "metadata": {},
   "outputs": [
    {
     "name": "stdout",
     "output_type": "stream",
     "text": [
      "              precision    recall  f1-score   support\n",
      "\n",
      "           0       0.50      0.92      0.65        77\n",
      "           1       0.86      0.34      0.48       107\n",
      "\n",
      "    accuracy                           0.58       184\n",
      "   macro avg       0.68      0.63      0.57       184\n",
      "weighted avg       0.71      0.58      0.55       184\n",
      "\n"
     ]
    }
   ],
   "source": [
    "print(classification_report(y_test_data, NN_predictions))"
   ]
  },
  {
   "cell_type": "code",
   "execution_count": 135,
   "id": "e729650b",
   "metadata": {},
   "outputs": [
    {
     "name": "stdout",
     "output_type": "stream",
     "text": [
      "              precision    recall  f1-score   support\n",
      "\n",
      "           0       0.76      0.84      0.80        77\n",
      "           1       0.88      0.81      0.84       107\n",
      "\n",
      "    accuracy                           0.83       184\n",
      "   macro avg       0.82      0.83      0.82       184\n",
      "weighted avg       0.83      0.83      0.83       184\n",
      "\n"
     ]
    }
   ],
   "source": [
    "print(classification_report(y_test_data, NN_scaled_data_predictions))"
   ]
  },
  {
   "cell_type": "code",
   "execution_count": 136,
   "id": "31bf4fe4",
   "metadata": {},
   "outputs": [
    {
     "name": "stdout",
     "output_type": "stream",
     "text": [
      "[[71  6]\n",
      " [71 36]]\n"
     ]
    }
   ],
   "source": [
    "print(confusion_matrix(y_test_data, NN_predictions))"
   ]
  },
  {
   "cell_type": "code",
   "execution_count": 137,
   "id": "d1b87e21",
   "metadata": {},
   "outputs": [
    {
     "name": "stdout",
     "output_type": "stream",
     "text": [
      "[[65 12]\n",
      " [20 87]]\n"
     ]
    }
   ],
   "source": [
    "print(confusion_matrix(y_test_data, NN_scaled_data_predictions))"
   ]
  },
  {
   "cell_type": "code",
   "execution_count": 138,
   "id": "17c56a4b",
   "metadata": {},
   "outputs": [
    {
     "data": {
      "text/plain": [
       "Text(69.0, 0.5, 'Truth')"
      ]
     },
     "execution_count": 138,
     "metadata": {},
     "output_type": "execute_result"
    },
    {
     "data": {
      "image/png": "[encoded data removed]",
      "text/plain": [
       "<Figure size 720x504 with 2 Axes>"
      ]
     },
     "metadata": {
      "needs_background": "light"
     },
     "output_type": "display_data"
    }
   ],
   "source": [
    "NN_cm = confusion_matrix(y_test_data, NN_predictions)\n",
    "plt.figure(figsize=(10,7))\n",
    "sns.heatmap(NN_cm, annot=True)\n",
    "plt.xlabel('Predicted')\n",
    "plt.ylabel('Truth')"
   ]
  },
  {
   "cell_type": "code",
   "execution_count": 139,
   "id": "f8f5cbf7",
   "metadata": {},
   "outputs": [
    {
     "data": {
      "text/plain": [
       "Text(69.0, 0.5, 'Truth')"
      ]
     },
     "execution_count": 139,
     "metadata": {},
     "output_type": "execute_result"
    },
    {
     "data": {
      "image/png": "[encoded data removed]",
      "text/plain": [
       "<Figure size 720x504 with 2 Axes>"
      ]
     },
     "metadata": {
      "needs_background": "light"
     },
     "output_type": "display_data"
    }
   ],
   "source": [
    "NN_scaled_data_cm = confusion_matrix(y_test_data, NN_scaled_data_predictions)\n",
    "plt.figure(figsize=(10,7))\n",
    "sns.heatmap(NN_scaled_data_cm, annot=True)\n",
    "plt.xlabel('Predicted')\n",
    "plt.ylabel('Truth')"
   ]
  },
  {
   "cell_type": "code",
   "execution_count": 140,
   "id": "fbec1df0",
   "metadata": {},
   "outputs": [
    {
     "name": "stdout",
     "output_type": "stream",
     "text": [
      "Accuracy of unscaled data: 0.5815217391304348\n"
     ]
    }
   ],
   "source": [
    "print(\"Accuracy of unscaled data:\", accuracy_score(y_test_data, NN_predictions))"
   ]
  },
  {
   "cell_type": "code",
   "execution_count": 141,
   "id": "ba0e166b",
   "metadata": {},
   "outputs": [
    {
     "name": "stdout",
     "output_type": "stream",
     "text": [
      "Accuracy of scaled data: 0.8260869565217391\n"
     ]
    }
   ],
   "source": [
    "print(\"Accuracy of scaled data:\", accuracy_score(y_test_data, NN_scaled_data_predictions))"
   ]
  },
  {
   "cell_type": "code",
   "execution_count": null,
   "id": "a6915088",
   "metadata": {},
   "outputs": [],
   "source": []
  }
 ],
 "metadata": {
  "kernelspec": {
   "display_name": "Python 3",
   "language": "python",
   "name": "python3"
  },
  "language_info": {
   "codemirror_mode": {
    "name": "ipython",
    "version": 3
   },
   "file_extension": ".py",
   "mimetype": "text/x-python",
   "name": "python",
   "nbconvert_exporter": "python",
   "pygments_lexer": "ipython3",
   "version": "3.8.8"
  }
 },
 "nbformat": 4,
 "nbformat_minor": 5
}
